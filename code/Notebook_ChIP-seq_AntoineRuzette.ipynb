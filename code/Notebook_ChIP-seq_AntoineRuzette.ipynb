{
 "cells": [
  {
   "cell_type": "markdown",
   "metadata": {},
   "source": [
    "# Task 2:  ChIP-seq data analysis\n",
    "## Notebook\n",
    "\n",
    "Comparative & Regulatory Genomics - [I0U29a] | Task 2 - ChIP-seq data analysis | Antoine Ruzette <b> r0829308 </b> | 19.12.2021\n",
    "\n",
    "Based on the ChIP-seq jupyter notebook from Prof. Stein Aerts. "
   ]
  },
  {
   "cell_type": "markdown",
   "metadata": {},
   "source": [
    "### Setting up the environment"
   ]
  },
  {
   "cell_type": "code",
   "execution_count": 3,
   "metadata": {},
   "outputs": [],
   "source": [
    "mkdir -p /mnt/storage/$USER/jupyternotebooks/Assignment2\n",
    "cd /mnt/storage/$USER/jupyternotebooks/Assignment2"
   ]
  },
  {
   "cell_type": "code",
   "execution_count": 4,
   "metadata": {},
   "outputs": [],
   "source": [
    "vdb-config -s /repository/user/cache-disabled=true"
   ]
  },
  {
   "cell_type": "markdown",
   "metadata": {},
   "source": [
    "### Data loading"
   ]
  },
  {
   "cell_type": "markdown",
   "metadata": {},
   "source": [
    "##### ChIP-seq data: Six1_myoblasts"
   ]
  },
  {
   "cell_type": "code",
   "execution_count": 5,
   "metadata": {},
   "outputs": [
    {
     "name": "stdout",
     "output_type": "stream",
     "text": [
      "2021-12-06T20:18:53 fastq-dump.2.9.6 sys: timeout exhausted while reading file within network system module - mbedtls_ssl_read returned -76 ( NET - Reading information from the socket failed )\n",
      "2021-12-06T20:24:25 fastq-dump.2.9.6 sys: timeout exhausted while reading file within network system module - mbedtls_ssl_read returned -76 ( NET - Reading information from the socket failed )\n",
      "2021-12-06T20:26:38 fastq-dump.2.9.6 sys: timeout exhausted while reading file within network system module - mbedtls_ssl_read returned -76 ( NET - Reading information from the socket failed )\n",
      "2021-12-06T20:27:23 fastq-dump.2.9.6 sys: timeout exhausted while reading file within network system module - mbedtls_ssl_read returned -76 ( NET - Reading information from the socket failed )\n",
      "2021-12-06T20:27:54 fastq-dump.2.9.6 sys: error unknown while reading file within network system module - mbedtls_ssl_read returned -76 ( NET - Reading information from the socket failed )\n",
      "2021-12-06T20:51:27 fastq-dump.2.9.6 sys: error unknown while reading file within network system module - mbedtls_ssl_read returned -76 ( NET - Reading information from the socket failed )\n",
      "2021-12-06T20:53:33 fastq-dump.2.9.6 sys: timeout exhausted while reading file within network system module - mbedtls_ssl_read returned -76 ( NET - Reading information from the socket failed )\n",
      "2021-12-06T20:56:18 fastq-dump.2.9.6 sys: timeout exhausted while reading file within network system module - mbedtls_ssl_read returned -76 ( NET - Reading information from the socket failed )\n",
      "2021-12-06T20:56:41 fastq-dump.2.9.6 sys: error unknown while reading file within network system module - mbedtls_ssl_read returned -76 ( NET - Reading information from the socket failed )\n",
      "2021-12-06T20:58:36 fastq-dump.2.9.6 sys: timeout exhausted while reading file within network system module - mbedtls_ssl_read returned -76 ( NET - Reading information from the socket failed )\n",
      "2021-12-06T20:59:51 fastq-dump.2.9.6 sys: timeout exhausted while reading file within network system module - mbedtls_ssl_read returned -76 ( NET - Reading information from the socket failed )\n",
      "2021-12-06T21:03:14 fastq-dump.2.9.6 sys: timeout exhausted while reading file within network system module - mbedtls_ssl_read returned -76 ( NET - Reading information from the socket failed )\n",
      "2021-12-06T21:10:16 fastq-dump.2.9.6 sys: timeout exhausted while reading file within network system module - mbedtls_ssl_read returned -76 ( NET - Reading information from the socket failed )\n",
      "2021-12-06T21:11:23 fastq-dump.2.9.6 sys: timeout exhausted while reading file within network system module - mbedtls_ssl_read returned -76 ( NET - Reading information from the socket failed )\n",
      "2021-12-06T21:14:50 fastq-dump.2.9.6 sys: timeout exhausted while reading file within network system module - mbedtls_ssl_read returned -76 ( NET - Reading information from the socket failed )\n",
      "2021-12-06T21:17:43 fastq-dump.2.9.6 sys: timeout exhausted while reading file within network system module - mbedtls_ssl_read returned -76 ( NET - Reading information from the socket failed )\n",
      "2021-12-06T21:18:49 fastq-dump.2.9.6 sys: timeout exhausted while reading file within network system module - mbedtls_ssl_read returned -76 ( NET - Reading information from the socket failed )\n",
      "2021-12-06T21:20:04 fastq-dump.2.9.6 sys: timeout exhausted while reading file within network system module - mbedtls_ssl_read returned -76 ( NET - Reading information from the socket failed )\n",
      "2021-12-06T21:35:01 fastq-dump.2.9.6 sys: timeout exhausted while reading file within network system module - mbedtls_ssl_read returned -76 ( NET - Reading information from the socket failed )\n",
      "2021-12-06T21:36:29 fastq-dump.2.9.6 sys: timeout exhausted while reading file within network system module - mbedtls_ssl_read returned -76 ( NET - Reading information from the socket failed )\n",
      "2021-12-06T21:37:39 fastq-dump.2.9.6 sys: timeout exhausted while reading file within network system module - mbedtls_ssl_read returned -76 ( NET - Reading information from the socket failed )\n",
      "2021-12-06T21:39:19 fastq-dump.2.9.6 sys: timeout exhausted while reading file within network system module - mbedtls_ssl_read returned -76 ( NET - Reading information from the socket failed )\n",
      "2021-12-06T21:40:41 fastq-dump.2.9.6 sys: timeout exhausted while reading file within network system module - mbedtls_ssl_read returned -76 ( NET - Reading information from the socket failed )\n",
      "2021-12-06T21:41:54 fastq-dump.2.9.6 sys: timeout exhausted while reading file within network system module - mbedtls_ssl_read returned -76 ( NET - Reading information from the socket failed )\n",
      "2021-12-06T21:46:06 fastq-dump.2.9.6 sys: timeout exhausted while reading file within network system module - mbedtls_ssl_read returned -76 ( NET - Reading information from the socket failed )\n",
      "2021-12-06T21:56:37 fastq-dump.2.9.6 sys: timeout exhausted while reading file within network system module - mbedtls_ssl_read returned -76 ( NET - Reading information from the socket failed )\n",
      "2021-12-06T21:57:07 fastq-dump.2.9.6 sys: connection failed while opening file within cryptographic module - mbedtls_ssl_handshake returned -76 ( NET - Reading information from the socket failed )\n",
      "2021-12-06T21:57:07 fastq-dump.2.9.6 sys: connection failed while opening file within cryptographic module - ktls_handshake failed while accessing '130.14.250.27' from '10.118.128.21'\n",
      "2021-12-06T21:57:07 fastq-dump.2.9.6 sys: connection failed while opening file within cryptographic module - Failed to create TLS stream for 'sra-download.ncbi.nlm.nih.gov' (130.14.250.27) from '10.118.128.21'\n",
      "2021-12-06T22:07:28 fastq-dump.2.9.6 sys: timeout exhausted while reading file within network system module - mbedtls_ssl_read returned -76 ( NET - Reading information from the socket failed )\n",
      "2021-12-06T22:08:38 fastq-dump.2.9.6 sys: timeout exhausted while reading file within network system module - mbedtls_ssl_read returned -76 ( NET - Reading information from the socket failed )\n",
      "2021-12-06T22:09:30 fastq-dump.2.9.6 sys: timeout exhausted while reading file within network system module - mbedtls_ssl_read returned -76 ( NET - Reading information from the socket failed )\n",
      "2021-12-06T22:10:43 fastq-dump.2.9.6 sys: timeout exhausted while reading file within network system module - mbedtls_ssl_read returned -76 ( NET - Reading information from the socket failed )\n",
      "2021-12-06T22:12:09 fastq-dump.2.9.6 sys: timeout exhausted while reading file within network system module - mbedtls_ssl_read returned -76 ( NET - Reading information from the socket failed )\n",
      "2021-12-06T22:13:44 fastq-dump.2.9.6 sys: timeout exhausted while reading file within network system module - mbedtls_ssl_read returned -76 ( NET - Reading information from the socket failed )\n",
      "2021-12-06T22:18:47 fastq-dump.2.9.6 sys: timeout exhausted while reading file within network system module - mbedtls_ssl_read returned -76 ( NET - Reading information from the socket failed )\n",
      "2021-12-06T22:24:11 fastq-dump.2.9.6 sys: timeout exhausted while reading file within network system module - mbedtls_ssl_read returned -76 ( NET - Reading information from the socket failed )\n",
      "2021-12-06T22:41:24 fastq-dump.2.9.6 sys: timeout exhausted while reading file within network system module - mbedtls_ssl_read returned -76 ( NET - Reading information from the socket failed )\n",
      "2021-12-06T22:42:18 fastq-dump.2.9.6 sys: timeout exhausted while reading file within network system module - mbedtls_ssl_read returned -76 ( NET - Reading information from the socket failed )\n",
      "2021-12-06T22:47:00 fastq-dump.2.9.6 sys: timeout exhausted while reading file within network system module - mbedtls_ssl_read returned -76 ( NET - Reading information from the socket failed )\n",
      "2021-12-06T22:51:19 fastq-dump.2.9.6 sys: timeout exhausted while reading file within network system module - mbedtls_ssl_read returned -76 ( NET - Reading information from the socket failed )\n",
      "2021-12-06T22:51:44 fastq-dump.2.9.6 sys: error unknown while reading file within network system module - mbedtls_ssl_read returned -76 ( NET - Reading information from the socket failed )\n",
      "2021-12-06T22:58:06 fastq-dump.2.9.6 sys: timeout exhausted while reading file within network system module - mbedtls_ssl_read returned -76 ( NET - Reading information from the socket failed )\n"
     ]
    },
    {
     "name": "stdout",
     "output_type": "stream",
     "text": [
      "2021-12-06T23:02:47 fastq-dump.2.9.6 sys: timeout exhausted while reading file within network system module - mbedtls_ssl_read returned -76 ( NET - Reading information from the socket failed )\n",
      "2021-12-06T23:04:46 fastq-dump.2.9.6 sys: timeout exhausted while reading file within network system module - mbedtls_ssl_read returned -76 ( NET - Reading information from the socket failed )\n",
      "2021-12-06T23:09:43 fastq-dump.2.9.6 sys: timeout exhausted while reading file within network system module - mbedtls_ssl_read returned -76 ( NET - Reading information from the socket failed )\n",
      "2021-12-06T23:20:35 fastq-dump.2.9.6 sys: timeout exhausted while reading file within network system module - mbedtls_ssl_read returned -76 ( NET - Reading information from the socket failed )\n",
      "2021-12-06T23:22:05 fastq-dump.2.9.6 sys: timeout exhausted while reading file within network system module - mbedtls_ssl_read returned -76 ( NET - Reading information from the socket failed )\n",
      "2021-12-06T23:23:28 fastq-dump.2.9.6 sys: timeout exhausted while reading file within network system module - mbedtls_ssl_read returned -76 ( NET - Reading information from the socket failed )\n",
      "2021-12-06T23:24:25 fastq-dump.2.9.6 sys: timeout exhausted while reading file within network system module - mbedtls_ssl_read returned -76 ( NET - Reading information from the socket failed )\n",
      "2021-12-06T23:25:13 fastq-dump.2.9.6 sys: timeout exhausted while reading file within network system module - mbedtls_ssl_read returned -76 ( NET - Reading information from the socket failed )\n",
      "2021-12-06T23:26:11 fastq-dump.2.9.6 sys: timeout exhausted while reading file within network system module - mbedtls_ssl_read returned -76 ( NET - Reading information from the socket failed )\n",
      "2021-12-06T23:26:56 fastq-dump.2.9.6 sys: timeout exhausted while reading file within network system module - mbedtls_ssl_read returned -76 ( NET - Reading information from the socket failed )\n",
      "2021-12-06T23:33:05 fastq-dump.2.9.6 sys: timeout exhausted while reading file within network system module - mbedtls_ssl_read returned -76 ( NET - Reading information from the socket failed )\n",
      "2021-12-06T23:34:42 fastq-dump.2.9.6 sys: timeout exhausted while reading file within network system module - mbedtls_ssl_read returned -76 ( NET - Reading information from the socket failed )\n",
      "2021-12-06T23:39:03 fastq-dump.2.9.6 sys: timeout exhausted while reading file within network system module - mbedtls_ssl_read returned -76 ( NET - Reading information from the socket failed )\n",
      "2021-12-06T23:44:20 fastq-dump.2.9.6 sys: timeout exhausted while reading file within network system module - mbedtls_ssl_read returned -76 ( NET - Reading information from the socket failed )\n",
      "2021-12-06T23:44:56 fastq-dump.2.9.6 sys: timeout exhausted while reading file within network system module - mbedtls_ssl_read returned -76 ( NET - Reading information from the socket failed )\n",
      "2021-12-06T23:46:49 fastq-dump.2.9.6 sys: timeout exhausted while reading file within network system module - mbedtls_ssl_read returned -76 ( NET - Reading information from the socket failed )\n",
      "2021-12-06T23:49:52 fastq-dump.2.9.6 sys: timeout exhausted while reading file within network system module - mbedtls_ssl_read returned -76 ( NET - Reading information from the socket failed )\n",
      "2021-12-07T00:01:13 fastq-dump.2.9.6 sys: error unknown while reading file within network system module - mbedtls_ssl_read returned -76 ( NET - Reading information from the socket failed )\n",
      "2021-12-07T00:04:06 fastq-dump.2.9.6 sys: timeout exhausted while reading file within network system module - mbedtls_ssl_read returned -76 ( NET - Reading information from the socket failed )\n",
      "2021-12-07T00:04:42 fastq-dump.2.9.6 sys: timeout exhausted while reading file within network system module - mbedtls_ssl_read returned -76 ( NET - Reading information from the socket failed )\n",
      "2021-12-07T00:05:12 fastq-dump.2.9.6 sys: connection failed while opening file within cryptographic module - mbedtls_ssl_handshake returned -76 ( NET - Reading information from the socket failed )\n",
      "2021-12-07T00:05:12 fastq-dump.2.9.6 sys: connection failed while opening file within cryptographic module - ktls_handshake failed while accessing '130.14.250.25' from '10.118.128.21'\n",
      "2021-12-07T00:05:12 fastq-dump.2.9.6 sys: connection failed while opening file within cryptographic module - Failed to create TLS stream for 'sra-download.ncbi.nlm.nih.gov' (130.14.250.25) from '10.118.128.21'\n",
      "2021-12-07T00:06:13 fastq-dump.2.9.6 sys: timeout exhausted while reading file within network system module - mbedtls_ssl_read returned -76 ( NET - Reading information from the socket failed )\n",
      "2021-12-07T00:07:31 fastq-dump.2.9.6 sys: timeout exhausted while reading file within network system module - mbedtls_ssl_read returned -76 ( NET - Reading information from the socket failed )\n",
      "2021-12-07T00:31:59 fastq-dump.2.9.6 sys: timeout exhausted while reading file within network system module - mbedtls_ssl_read returned -76 ( NET - Reading information from the socket failed )\n",
      "2021-12-07T00:35:10 fastq-dump.2.9.6 sys: timeout exhausted while reading file within network system module - mbedtls_ssl_read returned -76 ( NET - Reading information from the socket failed )\n",
      "2021-12-07T00:38:14 fastq-dump.2.9.6 sys: timeout exhausted while reading file within network system module - mbedtls_ssl_read returned -76 ( NET - Reading information from the socket failed )\n",
      "2021-12-07T00:39:28 fastq-dump.2.9.6 sys: timeout exhausted while reading file within network system module - mbedtls_ssl_read returned -76 ( NET - Reading information from the socket failed )\n",
      "2021-12-07T00:43:38 fastq-dump.2.9.6 sys: timeout exhausted while reading file within network system module - mbedtls_ssl_read returned -76 ( NET - Reading information from the socket failed )\n",
      "2021-12-07T00:46:35 fastq-dump.2.9.6 sys: timeout exhausted while reading file within network system module - mbedtls_ssl_read returned -76 ( NET - Reading information from the socket failed )\n",
      "2021-12-07T00:50:43 fastq-dump.2.9.6 sys: timeout exhausted while reading file within network system module - mbedtls_ssl_read returned -76 ( NET - Reading information from the socket failed )\n",
      "2021-12-07T00:55:19 fastq-dump.2.9.6 sys: timeout exhausted while reading file within network system module - mbedtls_ssl_read returned -76 ( NET - Reading information from the socket failed )\n",
      "2021-12-07T00:58:32 fastq-dump.2.9.6 sys: timeout exhausted while reading file within network system module - mbedtls_ssl_read returned -76 ( NET - Reading information from the socket failed )\n",
      "2021-12-07T00:59:38 fastq-dump.2.9.6 sys: timeout exhausted while reading file within network system module - mbedtls_ssl_read returned -76 ( NET - Reading information from the socket failed )\n",
      "2021-12-07T01:03:39 fastq-dump.2.9.6 sys: timeout exhausted while reading file within network system module - mbedtls_ssl_read returned -76 ( NET - Reading information from the socket failed )\n",
      "2021-12-07T01:04:26 fastq-dump.2.9.6 sys: error unknown while reading file within network system module - mbedtls_ssl_read returned -76 ( NET - Reading information from the socket failed )\n",
      "2021-12-07T01:06:28 fastq-dump.2.9.6 sys: timeout exhausted while reading file within network system module - mbedtls_ssl_read returned -76 ( NET - Reading information from the socket failed )\n",
      "2021-12-07T01:09:39 fastq-dump.2.9.6 sys: timeout exhausted while reading file within network system module - mbedtls_ssl_read returned -76 ( NET - Reading information from the socket failed )\n",
      "2021-12-07T01:22:34 fastq-dump.2.9.6 sys: timeout exhausted while reading file within network system module - mbedtls_ssl_read returned -76 ( NET - Reading information from the socket failed )\n",
      "2021-12-07T01:27:50 fastq-dump.2.9.6 sys: timeout exhausted while reading file within network system module - mbedtls_ssl_read returned -76 ( NET - Reading information from the socket failed )\n",
      "2021-12-07T01:30:00 fastq-dump.2.9.6 sys: timeout exhausted while reading file within network system module - mbedtls_ssl_read returned -76 ( NET - Reading information from the socket failed )\n",
      "2021-12-07T01:46:14 fastq-dump.2.9.6 sys: timeout exhausted while reading file within network system module - mbedtls_ssl_read returned -76 ( NET - Reading information from the socket failed )\n"
     ]
    },
    {
     "name": "stdout",
     "output_type": "stream",
     "text": [
      "2021-12-07T01:58:35 fastq-dump.2.9.6 sys: timeout exhausted while reading file within network system module - mbedtls_ssl_read returned -76 ( NET - Reading information from the socket failed )\n",
      "2021-12-07T02:00:26 fastq-dump.2.9.6 sys: timeout exhausted while reading file within network system module - mbedtls_ssl_read returned -76 ( NET - Reading information from the socket failed )\n",
      "2021-12-07T02:03:42 fastq-dump.2.9.6 sys: timeout exhausted while reading file within network system module - mbedtls_ssl_read returned -76 ( NET - Reading information from the socket failed )\n",
      "2021-12-07T02:05:45 fastq-dump.2.9.6 sys: timeout exhausted while reading file within network system module - mbedtls_ssl_read returned -76 ( NET - Reading information from the socket failed )\n",
      "2021-12-07T02:13:57 fastq-dump.2.9.6 sys: timeout exhausted while reading file within network system module - mbedtls_ssl_read returned -76 ( NET - Reading information from the socket failed )\n",
      "2021-12-07T02:14:50 fastq-dump.2.9.6 sys: timeout exhausted while reading file within network system module - mbedtls_ssl_read returned -76 ( NET - Reading information from the socket failed )\n",
      "2021-12-07T02:18:27 fastq-dump.2.9.6 sys: timeout exhausted while reading file within network system module - mbedtls_ssl_read returned -76 ( NET - Reading information from the socket failed )\n",
      "2021-12-07T02:20:42 fastq-dump.2.9.6 sys: timeout exhausted while reading file within network system module - mbedtls_ssl_read returned -76 ( NET - Reading information from the socket failed )\n",
      "2021-12-07T02:26:21 fastq-dump.2.9.6 sys: error unknown while reading file within network system module - mbedtls_ssl_read returned -76 ( NET - Reading information from the socket failed )\n",
      "2021-12-07T02:27:30 fastq-dump.2.9.6 sys: timeout exhausted while reading file within network system module - mbedtls_ssl_read returned -76 ( NET - Reading information from the socket failed )\n",
      "2021-12-07T02:28:32 fastq-dump.2.9.6 sys: timeout exhausted while reading file within network system module - mbedtls_ssl_read returned -76 ( NET - Reading information from the socket failed )\n",
      "2021-12-07T02:29:43 fastq-dump.2.9.6 sys: timeout exhausted while reading file within network system module - mbedtls_ssl_read returned -76 ( NET - Reading information from the socket failed )\n",
      "2021-12-07T02:30:35 fastq-dump.2.9.6 sys: error unknown while reading file within network system module - mbedtls_ssl_read returned -76 ( NET - Reading information from the socket failed )\n",
      "2021-12-07T02:31:25 fastq-dump.2.9.6 sys: error unknown while reading file within network system module - mbedtls_ssl_read returned -76 ( NET - Reading information from the socket failed )\n",
      "2021-12-07T02:33:18 fastq-dump.2.9.6 sys: error unknown while reading file within network system module - mbedtls_ssl_read returned -76 ( NET - Reading information from the socket failed )\n",
      "2021-12-07T02:35:19 fastq-dump.2.9.6 sys: timeout exhausted while reading file within network system module - mbedtls_ssl_read returned -76 ( NET - Reading information from the socket failed )\n",
      "2021-12-07T02:48:43 fastq-dump.2.9.6 sys: timeout exhausted while reading file within network system module - mbedtls_ssl_read returned -76 ( NET - Reading information from the socket failed )\n",
      "2021-12-07T02:50:22 fastq-dump.2.9.6 sys: timeout exhausted while reading file within network system module - mbedtls_ssl_read returned -76 ( NET - Reading information from the socket failed )\n",
      "2021-12-07T02:57:49 fastq-dump.2.9.6 sys: timeout exhausted while reading file within network system module - mbedtls_ssl_read returned -76 ( NET - Reading information from the socket failed )\n",
      "2021-12-07T02:59:41 fastq-dump.2.9.6 sys: timeout exhausted while reading file within network system module - mbedtls_ssl_read returned -76 ( NET - Reading information from the socket failed )\n",
      "2021-12-07T03:00:42 fastq-dump.2.9.6 sys: timeout exhausted while reading file within network system module - mbedtls_ssl_read returned -76 ( NET - Reading information from the socket failed )\n",
      "2021-12-07T03:01:49 fastq-dump.2.9.6 sys: timeout exhausted while reading file within network system module - mbedtls_ssl_read returned -76 ( NET - Reading information from the socket failed )\n",
      "2021-12-07T03:11:43 fastq-dump.2.9.6 sys: timeout exhausted while reading file within network system module - mbedtls_ssl_read returned -76 ( NET - Reading information from the socket failed )\n",
      "2021-12-07T03:14:28 fastq-dump.2.9.6 sys: timeout exhausted while reading file within network system module - mbedtls_ssl_read returned -76 ( NET - Reading information from the socket failed )\n",
      "2021-12-07T03:17:32 fastq-dump.2.9.6 sys: timeout exhausted while reading file within network system module - mbedtls_ssl_read returned -76 ( NET - Reading information from the socket failed )\n",
      "2021-12-07T03:19:33 fastq-dump.2.9.6 sys: timeout exhausted while reading file within network system module - mbedtls_ssl_read returned -76 ( NET - Reading information from the socket failed )\n",
      "2021-12-07T03:22:30 fastq-dump.2.9.6 sys: timeout exhausted while reading file within network system module - mbedtls_ssl_read returned -76 ( NET - Reading information from the socket failed )\n",
      "2021-12-07T03:25:40 fastq-dump.2.9.6 sys: timeout exhausted while reading file within network system module - mbedtls_ssl_read returned -76 ( NET - Reading information from the socket failed )\n",
      "2021-12-07T03:26:24 fastq-dump.2.9.6 sys: timeout exhausted while reading file within network system module - mbedtls_ssl_read returned -76 ( NET - Reading information from the socket failed )\n",
      "2021-12-07T03:26:49 fastq-dump.2.9.6 sys: error unknown while reading file within network system module - mbedtls_ssl_read returned -76 ( NET - Reading information from the socket failed )\n",
      "2021-12-07T03:31:50 fastq-dump.2.9.6 sys: timeout exhausted while reading file within network system module - mbedtls_ssl_read returned -76 ( NET - Reading information from the socket failed )\n",
      "2021-12-07T03:35:38 fastq-dump.2.9.6 sys: timeout exhausted while reading file within network system module - mbedtls_ssl_read returned -76 ( NET - Reading information from the socket failed )\n",
      "2021-12-07T03:42:33 fastq-dump.2.9.6 sys: timeout exhausted while reading file within network system module - mbedtls_ssl_read returned -76 ( NET - Reading information from the socket failed )\n",
      "2021-12-07T03:51:25 fastq-dump.2.9.6 sys: timeout exhausted while reading file within network system module - mbedtls_ssl_read returned -76 ( NET - Reading information from the socket failed )\n",
      "2021-12-07T03:59:40 fastq-dump.2.9.6 sys: timeout exhausted while reading file within network system module - mbedtls_ssl_read returned -76 ( NET - Reading information from the socket failed )\n",
      "2021-12-07T04:00:43 fastq-dump.2.9.6 sys: timeout exhausted while reading file within network system module - mbedtls_ssl_read returned -76 ( NET - Reading information from the socket failed )\n",
      "2021-12-07T04:02:20 fastq-dump.2.9.6 sys: timeout exhausted while reading file within network system module - mbedtls_ssl_read returned -76 ( NET - Reading information from the socket failed )\n",
      "2021-12-07T04:14:43 fastq-dump.2.9.6 sys: timeout exhausted while reading file within network system module - mbedtls_ssl_read returned -76 ( NET - Reading information from the socket failed )\n",
      "2021-12-07T04:16:07 fastq-dump.2.9.6 sys: timeout exhausted while reading file within network system module - mbedtls_ssl_read returned -76 ( NET - Reading information from the socket failed )\n",
      "2021-12-07T04:18:39 fastq-dump.2.9.6 sys: timeout exhausted while reading file within network system module - mbedtls_ssl_read returned -76 ( NET - Reading information from the socket failed )\n",
      "2021-12-07T04:23:30 fastq-dump.2.9.6 sys: timeout exhausted while reading file within network system module - mbedtls_ssl_read returned -76 ( NET - Reading information from the socket failed )\n",
      "Rejected 190727492 READS because READLEN < 1\n",
      "Read 190727492 spots for SRR14711117\n",
      "Written 190727492 spots for SRR14711117\n"
     ]
    }
   ],
   "source": [
    "#data loading\n",
    "fastq-dump --split-files SRR14711117\n",
    "\n",
    "#delete it after the mapping done (should be about 30GB)"
   ]
  },
  {
   "cell_type": "markdown",
   "metadata": {},
   "source": [
    "##### ChIP-seq data: Input_myoblasts"
   ]
  },
  {
   "cell_type": "code",
   "execution_count": 12,
   "metadata": {},
   "outputs": [
    {
     "name": "stdout",
     "output_type": "stream",
     "text": [
      "2021-12-08T15:44:31 fastq-dump.2.9.6 sys: timeout exhausted while reading file within network system module - mbedtls_ssl_read returned -76 ( NET - Reading information from the socket failed )\n",
      "2021-12-08T15:46:11 fastq-dump.2.9.6 sys: timeout exhausted while reading file within network system module - mbedtls_ssl_read returned -76 ( NET - Reading information from the socket failed )\n",
      "2021-12-08T15:46:48 fastq-dump.2.9.6 sys: timeout exhausted while reading file within network system module - mbedtls_ssl_read returned -76 ( NET - Reading information from the socket failed )\n",
      "2021-12-08T15:52:51 fastq-dump.2.9.6 sys: timeout exhausted while reading file within network system module - mbedtls_ssl_read returned -76 ( NET - Reading information from the socket failed )\n",
      "2021-12-08T15:53:45 fastq-dump.2.9.6 sys: timeout exhausted while reading file within network system module - mbedtls_ssl_read returned -76 ( NET - Reading information from the socket failed )\n",
      "2021-12-08T15:56:35 fastq-dump.2.9.6 sys: timeout exhausted while reading file within network system module - mbedtls_ssl_read returned -76 ( NET - Reading information from the socket failed )\n",
      "2021-12-08T15:57:06 fastq-dump.2.9.6 sys: timeout exhausted while reading file within network system module - mbedtls_ssl_read returned -76 ( NET - Reading information from the socket failed )\n",
      "2021-12-08T16:06:23 fastq-dump.2.9.6 sys: timeout exhausted while reading file within network system module - mbedtls_ssl_read returned -76 ( NET - Reading information from the socket failed )\n",
      "2021-12-08T16:12:49 fastq-dump.2.9.6 sys: timeout exhausted while reading file within network system module - mbedtls_ssl_read returned -76 ( NET - Reading information from the socket failed )\n",
      "2021-12-08T16:18:59 fastq-dump.2.9.6 sys: timeout exhausted while reading file within network system module - mbedtls_ssl_read returned -76 ( NET - Reading information from the socket failed )\n",
      "2021-12-08T16:21:02 fastq-dump.2.9.6 sys: error unknown while reading file within network system module - mbedtls_ssl_read returned -76 ( NET - Reading information from the socket failed )\n",
      "2021-12-08T16:23:27 fastq-dump.2.9.6 sys: timeout exhausted while reading file within network system module - mbedtls_ssl_read returned -76 ( NET - Reading information from the socket failed )\n",
      "2021-12-08T16:28:19 fastq-dump.2.9.6 sys: timeout exhausted while reading file within network system module - mbedtls_ssl_read returned -76 ( NET - Reading information from the socket failed )\n",
      "2021-12-08T16:30:24 fastq-dump.2.9.6 sys: timeout exhausted while reading file within network system module - mbedtls_ssl_read returned -76 ( NET - Reading information from the socket failed )\n",
      "2021-12-08T16:31:42 fastq-dump.2.9.6 sys: timeout exhausted while reading file within network system module - mbedtls_ssl_read returned -76 ( NET - Reading information from the socket failed )\n",
      "2021-12-08T16:37:07 fastq-dump.2.9.6 sys: timeout exhausted while reading file within network system module - mbedtls_ssl_read returned -76 ( NET - Reading information from the socket failed )\n",
      "2021-12-08T16:40:28 fastq-dump.2.9.6 sys: timeout exhausted while reading file within network system module - mbedtls_ssl_read returned -76 ( NET - Reading information from the socket failed )\n",
      "2021-12-08T16:44:46 fastq-dump.2.9.6 sys: timeout exhausted while reading file within network system module - mbedtls_ssl_read returned -76 ( NET - Reading information from the socket failed )\n",
      "2021-12-08T16:49:18 fastq-dump.2.9.6 sys: timeout exhausted while reading file within network system module - mbedtls_ssl_read returned -76 ( NET - Reading information from the socket failed )\n",
      "2021-12-08T16:51:54 fastq-dump.2.9.6 sys: timeout exhausted while reading file within network system module - mbedtls_ssl_read returned -76 ( NET - Reading information from the socket failed )\n",
      "2021-12-08T16:54:57 fastq-dump.2.9.6 sys: timeout exhausted while reading file within network system module - mbedtls_ssl_read returned -76 ( NET - Reading information from the socket failed )\n",
      "2021-12-08T16:56:24 fastq-dump.2.9.6 sys: error unknown while reading file within network system module - mbedtls_ssl_read returned -76 ( NET - Reading information from the socket failed )\n",
      "2021-12-08T16:57:25 fastq-dump.2.9.6 sys: timeout exhausted while reading file within network system module - mbedtls_ssl_read returned -76 ( NET - Reading information from the socket failed )\n",
      "2021-12-08T16:58:23 fastq-dump.2.9.6 sys: timeout exhausted while reading file within network system module - mbedtls_ssl_read returned -76 ( NET - Reading information from the socket failed )\n",
      "2021-12-08T17:00:37 fastq-dump.2.9.6 sys: timeout exhausted while reading file within network system module - mbedtls_ssl_read returned -76 ( NET - Reading information from the socket failed )\n",
      "2021-12-08T17:01:15 fastq-dump.2.9.6 sys: error unknown while reading file within network system module - mbedtls_ssl_read returned -76 ( NET - Reading information from the socket failed )\n",
      "2021-12-08T17:03:53 fastq-dump.2.9.6 sys: timeout exhausted while reading file within network system module - mbedtls_ssl_read returned -76 ( NET - Reading information from the socket failed )\n",
      "2021-12-08T17:04:24 fastq-dump.2.9.6 sys: timeout exhausted while reading file within network system module - mbedtls_ssl_read returned -76 ( NET - Reading information from the socket failed )\n",
      "2021-12-08T17:05:19 fastq-dump.2.9.6 sys: timeout exhausted while reading file within network system module - mbedtls_ssl_read returned -76 ( NET - Reading information from the socket failed )\n",
      "2021-12-08T17:12:10 fastq-dump.2.9.6 sys: timeout exhausted while reading file within network system module - mbedtls_ssl_read returned -76 ( NET - Reading information from the socket failed )\n",
      "2021-12-08T17:13:32 fastq-dump.2.9.6 sys: timeout exhausted while reading file within network system module - mbedtls_ssl_read returned -76 ( NET - Reading information from the socket failed )\n",
      "2021-12-08T17:14:47 fastq-dump.2.9.6 sys: timeout exhausted while reading file within network system module - mbedtls_ssl_read returned -76 ( NET - Reading information from the socket failed )\n",
      "2021-12-08T17:16:48 fastq-dump.2.9.6 sys: timeout exhausted while reading file within network system module - mbedtls_ssl_read returned -76 ( NET - Reading information from the socket failed )\n",
      "2021-12-08T17:18:14 fastq-dump.2.9.6 sys: timeout exhausted while reading file within network system module - mbedtls_ssl_read returned -76 ( NET - Reading information from the socket failed )\n",
      "2021-12-08T17:20:30 fastq-dump.2.9.6 sys: timeout exhausted while reading file within network system module - mbedtls_ssl_read returned -76 ( NET - Reading information from the socket failed )\n",
      "2021-12-08T17:30:42 fastq-dump.2.9.6 sys: timeout exhausted while reading file within network system module - mbedtls_ssl_read returned -76 ( NET - Reading information from the socket failed )\n",
      "2021-12-08T17:38:22 fastq-dump.2.9.6 sys: timeout exhausted while reading file within network system module - mbedtls_ssl_read returned -76 ( NET - Reading information from the socket failed )\n",
      "2021-12-08T17:39:11 fastq-dump.2.9.6 sys: timeout exhausted while reading file within network system module - mbedtls_ssl_read returned -76 ( NET - Reading information from the socket failed )\n",
      "2021-12-08T17:43:22 fastq-dump.2.9.6 sys: timeout exhausted while reading file within network system module - mbedtls_ssl_read returned -76 ( NET - Reading information from the socket failed )\n",
      "2021-12-08T17:43:53 fastq-dump.2.9.6 sys: timeout exhausted while reading file within network system module - mbedtls_ssl_read returned -76 ( NET - Reading information from the socket failed )\n",
      "2021-12-08T17:45:39 fastq-dump.2.9.6 sys: timeout exhausted while reading file within network system module - mbedtls_ssl_read returned -76 ( NET - Reading information from the socket failed )\n",
      "2021-12-08T17:47:40 fastq-dump.2.9.6 sys: timeout exhausted while reading file within network system module - mbedtls_ssl_read returned -76 ( NET - Reading information from the socket failed )\n",
      "2021-12-08T17:50:05 fastq-dump.2.9.6 sys: timeout exhausted while reading file within network system module - mbedtls_ssl_read returned -76 ( NET - Reading information from the socket failed )\n"
     ]
    },
    {
     "name": "stdout",
     "output_type": "stream",
     "text": [
      "2021-12-08T17:51:23 fastq-dump.2.9.6 sys: timeout exhausted while reading file within network system module - mbedtls_ssl_read returned -76 ( NET - Reading information from the socket failed )\n",
      "2021-12-08T17:53:06 fastq-dump.2.9.6 sys: timeout exhausted while reading file within network system module - mbedtls_ssl_read returned -76 ( NET - Reading information from the socket failed )\n",
      "2021-12-08T17:55:58 fastq-dump.2.9.6 sys: error unknown while reading file within network system module - mbedtls_ssl_read returned -76 ( NET - Reading information from the socket failed )\n",
      "2021-12-08T17:57:51 fastq-dump.2.9.6 sys: timeout exhausted while reading file within network system module - mbedtls_ssl_read returned -76 ( NET - Reading information from the socket failed )\n",
      "2021-12-08T18:02:55 fastq-dump.2.9.6 sys: timeout exhausted while reading file within network system module - mbedtls_ssl_read returned -76 ( NET - Reading information from the socket failed )\n",
      "2021-12-08T18:08:01 fastq-dump.2.9.6 sys: timeout exhausted while reading file within network system module - mbedtls_ssl_read returned -76 ( NET - Reading information from the socket failed )\n",
      "2021-12-08T18:13:00 fastq-dump.2.9.6 sys: timeout exhausted while reading file within network system module - mbedtls_ssl_read returned -76 ( NET - Reading information from the socket failed )\n",
      "2021-12-08T18:18:38 fastq-dump.2.9.6 sys: timeout exhausted while reading file within network system module - mbedtls_ssl_read returned -76 ( NET - Reading information from the socket failed )\n",
      "2021-12-08T18:19:18 fastq-dump.2.9.6 sys: timeout exhausted while reading file within network system module - mbedtls_ssl_read returned -76 ( NET - Reading information from the socket failed )\n",
      "2021-12-08T18:21:48 fastq-dump.2.9.6 sys: error unknown while reading file within network system module - mbedtls_ssl_read returned -76 ( NET - Reading information from the socket failed )\n",
      "2021-12-08T18:23:04 fastq-dump.2.9.6 sys: timeout exhausted while reading file within network system module - mbedtls_ssl_read returned -76 ( NET - Reading information from the socket failed )\n",
      "2021-12-08T18:27:03 fastq-dump.2.9.6 sys: timeout exhausted while reading file within network system module - mbedtls_ssl_read returned -76 ( NET - Reading information from the socket failed )\n",
      "2021-12-08T18:31:17 fastq-dump.2.9.6 sys: timeout exhausted while reading file within network system module - mbedtls_ssl_read returned -76 ( NET - Reading information from the socket failed )\n",
      "2021-12-08T18:37:49 fastq-dump.2.9.6 sys: timeout exhausted while reading file within network system module - mbedtls_ssl_read returned -76 ( NET - Reading information from the socket failed )\n",
      "2021-12-08T21:50:22 fastq-dump.2.9.6 sys: timeout exhausted while reading file within network system module - mbedtls_ssl_read returned -76 ( NET - Reading information from the socket failed )\n",
      "Rejected 191908310 READS because READLEN < 1\n",
      "Read 191908310 spots for SRR14711120\n",
      "Written 191908310 spots for SRR14711120\n"
     ]
    }
   ],
   "source": [
    "fastq-dump --split-files SRR14711120"
   ]
  },
  {
   "cell_type": "code",
   "execution_count": 22,
   "metadata": {},
   "outputs": [
    {
     "name": "stdout",
     "output_type": "stream",
     "text": [
      "-rw-r--r-- 1 r0829308 domain users 35634317872 Dec  8 23:15 SRR14711120_1.fastq\n",
      "-rw-r--r-- 1 r0829308 domain users 35412324088 Dec  7 05:32 SRR14711117_1.fastq\n"
     ]
    }
   ],
   "source": [
    "ls -lt *.fastq"
   ]
  },
  {
   "cell_type": "markdown",
   "metadata": {},
   "source": [
    "### Quality Check (QC)"
   ]
  },
  {
   "cell_type": "code",
   "execution_count": 13,
   "metadata": {},
   "outputs": [
    {
     "name": "stdout",
     "output_type": "stream",
     "text": [
      "Started analysis of SRR14711120_1.fastq\n",
      "Approx 5% complete for SRR14711120_1.fastq\n",
      "Approx 10% complete for SRR14711120_1.fastq\n",
      "Approx 15% complete for SRR14711120_1.fastq\n",
      "Approx 20% complete for SRR14711120_1.fastq\n",
      "Approx 25% complete for SRR14711120_1.fastq\n",
      "Approx 30% complete for SRR14711120_1.fastq\n",
      "Approx 35% complete for SRR14711120_1.fastq\n",
      "Approx 40% complete for SRR14711120_1.fastq\n",
      "Approx 45% complete for SRR14711120_1.fastq\n",
      "Approx 50% complete for SRR14711120_1.fastq\n",
      "Approx 55% complete for SRR14711120_1.fastq\n",
      "Approx 60% complete for SRR14711120_1.fastq\n",
      "Approx 65% complete for SRR14711120_1.fastq\n",
      "Approx 70% complete for SRR14711120_1.fastq\n",
      "Approx 75% complete for SRR14711120_1.fastq\n",
      "Approx 80% complete for SRR14711120_1.fastq\n",
      "Approx 85% complete for SRR14711120_1.fastq\n",
      "Approx 90% complete for SRR14711120_1.fastq\n",
      "Approx 95% complete for SRR14711120_1.fastq\n",
      "Analysis complete for SRR14711120_1.fastq\n"
     ]
    }
   ],
   "source": [
    "fastqc SRR14711117_1.fastq\n",
    "fastqc SRR14711120_1.fastq\n",
    "#insert screenshot for the three quality metrics"
   ]
  },
  {
   "cell_type": "code",
   "execution_count": 21,
   "metadata": {},
   "outputs": [
    {
     "name": "stdout",
     "output_type": "stream",
     "text": [
      "-rw-r--r-- 1 r0829308 domain users 558289 Dec  9 09:54 SRR14711120_1_fastqc.zip\n",
      "-rw-r--r-- 1 r0829308 domain users 467791 Dec  8 11:09 SRR14711117_1_fastqc.zip\n"
     ]
    }
   ],
   "source": [
    "ls -lt *.zip"
   ]
  },
  {
   "cell_type": "markdown",
   "metadata": {},
   "source": [
    "### Aligment of the Six1 ChIP-seq reads from mouse primary myoblast cells"
   ]
  },
  {
   "cell_type": "markdown",
   "metadata": {},
   "source": [
    "To align the reads to the genome, we will use bowtie2. As reference genome, you can use the whole genome bowtie index at this location /mnt/storage/data/resources/mm10/mm10. Alternatively, you can use bwa-mem to align reads. Here we will align to mm10 mouse assembly. "
   ]
  },
  {
   "cell_type": "code",
   "execution_count": 11,
   "metadata": {},
   "outputs": [
    {
     "name": "stdout",
     "output_type": "stream",
     "text": [
      "190727492 reads; of these:\n",
      "  190727492 (100.00%) were unpaired; of these:\n",
      "    6831476 (3.58%) aligned 0 times\n",
      "    122484655 (64.22%) aligned exactly 1 time\n",
      "    61411361 (32.20%) aligned >1 times\n",
      "96.42% overall alignment rate\n"
     ]
    }
   ],
   "source": [
    "#mapping the mouse genome\n",
    "bowtie2 -x /mnt/storage/data/resources/mm10/mm10 SRR14711117_1.fastq -S ChIP_Six1.sam  "
   ]
  },
  {
   "cell_type": "code",
   "execution_count": 20,
   "metadata": {},
   "outputs": [
    {
     "name": "stdout",
     "output_type": "stream",
     "text": [
      "-rw-r--r-- 1 r0829308 domain users 40540080460 Dec  8 16:43 ChIP_Six1.sam\n"
     ]
    }
   ],
   "source": [
    "ls -l *.sam"
   ]
  },
  {
   "cell_type": "markdown",
   "metadata": {},
   "source": [
    "Check a couple of lines in the SAM file"
   ]
  },
  {
   "cell_type": "code",
   "execution_count": 25,
   "metadata": {},
   "outputs": [
    {
     "name": "stdout",
     "output_type": "stream",
     "text": [
      "SRR14711117.428\t0\tchr17\t68672016\t42\t50M\t*\t0\t0\tAACCCTTTAAACGATGGCTAAGTATTTCTCTGAGTTCTTAGCAAGTCTCT\tCCCFFFFFHHHHHJJJJJJJJJHHHIJJJJIJIJIJJJJJJJJJJHIJJJ\tAS:i:0\tXN:i:0\tXM:i:0\tXO:i:0\tXG:i:0\tNM:i:0\tMD:Z:50\tYT:Z:UU\n",
      "SRR14711117.429\t0\tchr4\t36572889\t42\t50M\t*\t0\t0\tCAGAGACAACACTGCCTGCCCATCAAGAGTCATGTTCTAACCCAGGTCAC\t@@@FFFFFHFFHFIGHIAEHIJGIIJIJ@?<BEFDGGGGEHG?F??9?BG\tAS:i:0\tXN:i:0\tXM:i:0\tXO:i:0\tXG:i:0\tNM:i:0\tMD:Z:50\tYT:Z:UU\n",
      "SRR14711117.430\t0\tchr9\t47242235\t42\t50M\t*\t0\t0\tGTCTNTCGCTCCCCCTCCCCCAAGGTCACTGGACAGTGGAGCCAGCACTG\tCCCF#4ADHHHHHJJJJJJJJIJJJCGFHHIJJIFI?FGDGEIIJIJJGI\tAS:i:-1\tXN:i:0\tXM:i:1\tXO:i:0\tXG:i:0\tNM:i:1\tMD:Z:4C45\tYT:Z:UU\n",
      "SRR14711117.431\t16\tchr19\t12295005\t42\t50M\t*\t0\t0\tGTAGTTCCTGTTCAACTTCCTAAATTTCCATTTTCAGAATTTCCTNACTT\t?BDEGF=BIFGCDC?>FC>BC<<CAB@EIHBDEDAEFFCABCA=2#=@@@\tAS:i:-1\tXN:i:0\tXM:i:1\tXO:i:0\tXG:i:0\tNM:i:1\tMD:Z:45T4\tYT:Z:UU\n",
      "SRR14711117.432\t0\tchr2\t98667058\t1\t50M\t*\t0\t0\tTGAGAAACATCCACTTGACGACTTGAAAAATGACGAAATCACTAAAAAAC\t@<?DDDDD><DAFIGEF@CH=<CGHG@F>;?<:?CAADB?<DHIC@EGHG\tAS:i:-5\tXS:i:-5\tXN:i:0\tXM:i:1\tXO:i:0\tXG:i:0\tNM:i:1\tMD:Z:19T30\tYT:Z:UU\n"
     ]
    }
   ],
   "source": [
    "head -500 ChIP_Six1.sam | tail -5"
   ]
  },
  {
   "cell_type": "markdown",
   "metadata": {},
   "source": [
    "Convert the SAM file to BAM format (binary)"
   ]
  },
  {
   "cell_type": "code",
   "execution_count": 17,
   "metadata": {},
   "outputs": [],
   "source": [
    "samtools view -S -b ChIP_Six1.sam > ChIP_Six1.bam"
   ]
  },
  {
   "cell_type": "markdown",
   "metadata": {},
   "source": [
    "How many reads are in the BAM file?"
   ]
  },
  {
   "cell_type": "code",
   "execution_count": 30,
   "metadata": {},
   "outputs": [
    {
     "name": "stdout",
     "output_type": "stream",
     "text": [
      "190727492\n"
     ]
    }
   ],
   "source": [
    "samtools view -c ChIP_Six1.bam"
   ]
  },
  {
   "cell_type": "code",
   "execution_count": 31,
   "metadata": {},
   "outputs": [
    {
     "name": "stdout",
     "output_type": "stream",
     "text": [
      "\n",
      "About: Convert between textual and numeric flag representation\n",
      "Usage: samtools flags INT|STR[,...]\n",
      "\n",
      "Flags:\n",
      "\t0x1\tPAIRED        .. paired-end (or multiple-segment) sequencing technology\n",
      "\t0x2\tPROPER_PAIR   .. each segment properly aligned according to the aligner\n",
      "\t0x4\tUNMAP         .. segment unmapped\n",
      "\t0x8\tMUNMAP        .. next segment in the template unmapped\n",
      "\t0x10\tREVERSE       .. SEQ is reverse complemented\n",
      "\t0x20\tMREVERSE      .. SEQ of the next segment in the template is reversed\n",
      "\t0x40\tREAD1         .. the first segment in the template\n",
      "\t0x80\tREAD2         .. the last segment in the template\n",
      "\t0x100\tSECONDARY     .. secondary alignment\n",
      "\t0x200\tQCFAIL        .. not passing quality controls\n",
      "\t0x400\tDUP           .. PCR or optical duplicate\n",
      "\t0x800\tSUPPLEMENTARY .. supplementary alignment\n",
      "\n"
     ]
    }
   ],
   "source": [
    "# List all SAM flags.\n",
    "samtools flags"
   ]
  },
  {
   "cell_type": "code",
   "execution_count": 32,
   "metadata": {},
   "outputs": [
    {
     "name": "stdout",
     "output_type": "stream",
     "text": [
      "0x104\t260\tUNMAP,SECONDARY\n"
     ]
    }
   ],
   "source": [
    "# Get correct flag settings for samtools view (second column).\n",
    "samtools flags UNMAP,SECONDARY"
   ]
  },
  {
   "cell_type": "code",
   "execution_count": 33,
   "metadata": {},
   "outputs": [
    {
     "name": "stdout",
     "output_type": "stream",
     "text": [
      "183896016\n"
     ]
    }
   ],
   "source": [
    "# Number of mapped reads.\n",
    "samtools view -c -F 260 ChIP_Six1.bam"
   ]
  },
  {
   "cell_type": "markdown",
   "metadata": {},
   "source": [
    "Now we are going to compress the .sam into .bam files and create the .bai index so we can use the BAM file in IGV"
   ]
  },
  {
   "cell_type": "code",
   "execution_count": 34,
   "metadata": {},
   "outputs": [
    {
     "name": "stdout",
     "output_type": "stream",
     "text": [
      "[bam_sort_core] merging from 49 files and 1 in-memory blocks...\n"
     ]
    }
   ],
   "source": [
    "samtools sort -O bam -o ChIP_Six1.sorted.bam ChIP_Six1.bam"
   ]
  },
  {
   "cell_type": "code",
   "execution_count": 35,
   "metadata": {},
   "outputs": [],
   "source": [
    "samtools index ChIP_Six1.sorted.bam"
   ]
  },
  {
   "cell_type": "code",
   "execution_count": 43,
   "metadata": {},
   "outputs": [
    {
     "name": "stdout",
     "output_type": "stream",
     "text": [
      "ChIP_Six1.bam  ChIP_Six1.sam  ChIP_Six1.sorted.bam  ChIP_Six1.sorted.bam.bai\n"
     ]
    }
   ],
   "source": [
    "ls ChIP_Six1*\n",
    "#Note that we now have four files: sam > bam > sorted.bam > sorted.bam.bai"
   ]
  },
  {
   "cell_type": "markdown",
   "metadata": {},
   "source": [
    "### Check your BAM file in IGV"
   ]
  },
  {
   "cell_type": "markdown",
   "metadata": {},
   "source": [
    "Copy the `ChIP_Six1.sorted.bam` and `ChIP_Six1.sorted.bam.bai` to your computer and open them with IGV. Go to the control genes (type the gene name in the search box and press \"Go\")."
   ]
  },
  {
   "cell_type": "markdown",
   "metadata": {},
   "source": [
    "### Alignment of the control data (\"input myoblastes\")"
   ]
  },
  {
   "cell_type": "code",
   "execution_count": null,
   "metadata": {},
   "outputs": [],
   "source": [
    "bowtie2 -x /mnt/storage/data/resources/mm10/mm10 SRR14711120_1.fastq -S ChIP_input.sam"
   ]
  },
  {
   "cell_type": "code",
   "execution_count": null,
   "metadata": {},
   "outputs": [],
   "source": [
    "samtools view -S -b ChIP_input.sam > ChIP_input.bam"
   ]
  },
  {
   "cell_type": "markdown",
   "metadata": {},
   "source": [
    "How many reads are in the BAM file?"
   ]
  },
  {
   "cell_type": "code",
   "execution_count": 1,
   "metadata": {},
   "outputs": [
    {
     "name": "stdout",
     "output_type": "stream",
     "text": [
      "191908310\n"
     ]
    }
   ],
   "source": [
    "samtools view -c ChIP_input.bam"
   ]
  },
  {
   "cell_type": "code",
   "execution_count": 2,
   "metadata": {},
   "outputs": [
    {
     "name": "stdout",
     "output_type": "stream",
     "text": [
      "0x104\t260\tUNMAP,SECONDARY\n"
     ]
    }
   ],
   "source": [
    "# Get correct flag settings for samtools view (second column).\n",
    "samtools flags UNMAP,SECONDARY"
   ]
  },
  {
   "cell_type": "code",
   "execution_count": 3,
   "metadata": {},
   "outputs": [
    {
     "name": "stdout",
     "output_type": "stream",
     "text": [
      "188104729\n"
     ]
    }
   ],
   "source": [
    "# Number of mapped reads.\n",
    "samtools view -c -F 260 ChIP_input.bam"
   ]
  },
  {
   "cell_type": "markdown",
   "metadata": {},
   "source": [
    "Now we are going to create the .bai index so we can use the BAM file in IGV"
   ]
  },
  {
   "cell_type": "code",
   "execution_count": 4,
   "metadata": {},
   "outputs": [
    {
     "name": "stdout",
     "output_type": "stream",
     "text": [
      "[bam_sort_core] merging from 49 files and 1 in-memory blocks...\n"
     ]
    }
   ],
   "source": [
    "samtools sort -O bam -o ChIP_input.sorted.bam ChIP_input.bam"
   ]
  },
  {
   "cell_type": "code",
   "execution_count": 5,
   "metadata": {},
   "outputs": [],
   "source": [
    "samtools index ChIP_input.sorted.bam"
   ]
  },
  {
   "cell_type": "code",
   "execution_count": 2,
   "metadata": {},
   "outputs": [
    {
     "name": "stdout",
     "output_type": "stream",
     "text": [
      "ChIP_input.bam  ChIP_input.sorted.bam\n",
      "ChIP_input.sam  ChIP_input.sorted.bam.bai\n"
     ]
    }
   ],
   "source": [
    "ls ChIP_input*\n",
    "#go on IGV, insert screenshots - no need for the input file"
   ]
  },
  {
   "cell_type": "markdown",
   "metadata": {},
   "source": [
    "### Genome-wide coverage plots"
   ]
  },
  {
   "cell_type": "markdown",
   "metadata": {},
   "source": [
    "We will generate a bigwig file that contains only the coverage of the reads, so not the individual reads. This bigWig file is a binary file format (simlar to BAM), and it can be accessed over the internet. This means that you can use the bigWig file locallly in IGV, but also as custom track in UCSC (provided that the bigWig is available from a web/ftp server, so you can specific the custom track by entering the URL)."
   ]
  },
  {
   "cell_type": "markdown",
   "metadata": {},
   "source": [
    "We're using the command bamCoverage from the package deeptools to create a bigwig file that can be used for visualization in IGV or UCSC Genome Browser. \n",
    "\n",
    "\n",
    "Find the size of the whole mm10 mouse genome in UCSC Genome Browser. Replace the green value by the latter. "
   ]
  },
  {
   "cell_type": "code",
   "execution_count": 8,
   "metadata": {},
   "outputs": [
    {
     "name": "stdout",
     "output_type": "stream",
     "text": [
      "normalization: 1x (effective genome size 2730855475)\n",
      "bamFilesList: ['ChIP_Six1.sorted.bam']\n",
      "binLength: 50\n",
      "numberOfSamples: None\n",
      "blackListFileName: None\n",
      "skipZeroOverZero: False\n",
      "bed_and_bin: False\n",
      "defaultFragmentLength: read length\n",
      "numberOfProcessors: 1\n",
      "verbose: False\n",
      "region: None\n",
      "bedFile: None\n",
      "minMappingQuality: None\n",
      "ignoreDuplicates: False\n",
      "chrsToSkip: []\n",
      "stepSize: 50\n",
      "center_read: False\n",
      "samFlag_include: None\n",
      "samFlag_exclude: None\n",
      "minFragmentLength: 0\n",
      "maxFragmentLength: 0\n",
      "zerosToNans: False\n",
      "smoothLength: None\n",
      "save_data: False\n",
      "out_file_for_raw_data: None\n",
      "maxPairedFragmentLength: 1000\n"
     ]
    }
   ],
   "source": [
    "bamCoverage -b ChIP_Six1.sorted.bam --normalizeUsing RPGC --effectiveGenomeSize 2730855475 -o six1.bw"
   ]
  },
  {
   "cell_type": "markdown",
   "metadata": {},
   "source": [
    "Open that .bw file in IGV (=> green track)"
   ]
  },
  {
   "cell_type": "markdown",
   "metadata": {},
   "source": [
    "Finally, from the ChIP-atlas page of this data set http://chip-atlas.org/view?id=SRX285808, I have chosen \"View on IGV - bigWig\", which automatically opens the bigWig file in my local IGV (blue track)\n"
   ]
  },
  {
   "cell_type": "markdown",
   "metadata": {},
   "source": [
    "### Peak calling \n"
   ]
  },
  {
   "cell_type": "markdown",
   "metadata": {},
   "source": [
    "Next, we will determine genomic regions with an enrichment of reads, in the form of a \"peak\". "
   ]
  },
  {
   "cell_type": "markdown",
   "metadata": {},
   "source": [
    "If you color the reads by strand (right click in IGV, color alignments by read strand), you will notice the shift between forward and reverse reads."
   ]
  },
  {
   "attachments": {
    "image.png": {
     "image/png": "[encoded data removed]"
    }
   },
   "cell_type": "markdown",
   "metadata": {},
   "source": [
    "You can also group reads by read strand - here is another example of a target gene, Slc16a10, located on the 10th chromosome.  Again we observe the shift in reads between positive and negative strand.\n",
    "\n",
    "![image.png](attachment:image.png)"
   ]
  },
  {
   "attachments": {
    "image.png": {
     "image/png": "[encoded data removed]"
    }
   },
   "cell_type": "markdown",
   "metadata": {},
   "source": [
    "![image.png](attachment:image.png)"
   ]
  },
  {
   "attachments": {
    "image.png": {
     "image/png": "[encoded data removed]"
    }
   },
   "cell_type": "markdown",
   "metadata": {},
   "source": [
    "![image.png](attachment:image.png)"
   ]
  },
  {
   "cell_type": "markdown",
   "metadata": {},
   "source": [
    "### Peak calling with MACS2"
   ]
  },
  {
   "cell_type": "markdown",
   "metadata": {},
   "source": [
    "MACS implements a model to take advantage of the strand shift, to distinguish true, bona fide peaks, from artifacts.\n",
    "\n",
    "Genome size for the reference genome mm10 was found in [NCBI](https://www.ncbi.nlm.nih.gov/assembly/GCF_000001635.20/). "
   ]
  },
  {
   "cell_type": "code",
   "execution_count": 4,
   "metadata": {},
   "outputs": [
    {
     "name": "stdout",
     "output_type": "stream",
     "text": [
      "macs2 2.2.4\n"
     ]
    }
   ],
   "source": [
    "macs2 --version"
   ]
  },
  {
   "cell_type": "code",
   "execution_count": null,
   "metadata": {},
   "outputs": [
    {
     "name": "stdout",
     "output_type": "stream",
     "text": [
      "INFO  @ Sun, 19 Dec 2021 00:32:21: \n",
      "# Command line: callpeak -t ChIP_Six1.sorted.bam -c ChIP_input.sorted.bam -n six1 -g 2730855475 -q 0.05\n",
      "# ARGUMENTS LIST:\n",
      "# name = six1\n",
      "# format = AUTO\n",
      "# ChIP-seq file = ['ChIP_Six1.sorted.bam']\n",
      "# control file = ['ChIP_input.sorted.bam']\n",
      "# effective genome size = 2.73e+09\n",
      "# band width = 300\n",
      "# model fold = [5, 50]\n",
      "# qvalue cutoff = 5.00e-02\n",
      "# The maximum gap between significant sites is assigned as the read length/tag size.\n",
      "# The minimum length of peaks is assigned as the predicted fragment length \"d\".\n",
      "# Larger dataset will be scaled towards smaller dataset.\n",
      "# Range for calculating regional lambda is: 1000 bps and 10000 bps\n",
      "# Broad region calling is off\n",
      "# Paired-End mode is off\n",
      " \n",
      "INFO  @ Sun, 19 Dec 2021 00:32:21: #1 read tag files... \n",
      "INFO  @ Sun, 19 Dec 2021 00:32:21: #1 read treatment tags... \n",
      "INFO  @ Sun, 19 Dec 2021 00:32:21: Detected format is: BAM \n",
      "INFO  @ Sun, 19 Dec 2021 00:32:21: * Input file is gzipped. \n",
      "INFO  @ Sun, 19 Dec 2021 00:32:24:  1000000 \n",
      "INFO  @ Sun, 19 Dec 2021 00:32:26:  2000000 \n",
      "INFO  @ Sun, 19 Dec 2021 00:32:28:  3000000 \n",
      "INFO  @ Sun, 19 Dec 2021 00:32:31:  4000000 \n",
      "INFO  @ Sun, 19 Dec 2021 00:32:33:  5000000 \n",
      "INFO  @ Sun, 19 Dec 2021 00:32:35:  6000000 \n",
      "INFO  @ Sun, 19 Dec 2021 00:32:37:  7000000 \n",
      "INFO  @ Sun, 19 Dec 2021 00:32:40:  8000000 \n",
      "INFO  @ Sun, 19 Dec 2021 00:32:42:  9000000 \n",
      "INFO  @ Sun, 19 Dec 2021 00:32:44:  10000000 \n",
      "INFO  @ Sun, 19 Dec 2021 00:32:47:  11000000 \n",
      "INFO  @ Sun, 19 Dec 2021 00:32:49:  12000000 \n",
      "INFO  @ Sun, 19 Dec 2021 00:32:51:  13000000 \n",
      "INFO  @ Sun, 19 Dec 2021 00:32:53:  14000000 \n",
      "INFO  @ Sun, 19 Dec 2021 00:32:56:  15000000 \n",
      "INFO  @ Sun, 19 Dec 2021 00:32:58:  16000000 \n",
      "INFO  @ Sun, 19 Dec 2021 00:33:00:  17000000 \n",
      "INFO  @ Sun, 19 Dec 2021 00:33:03:  18000000 \n",
      "INFO  @ Sun, 19 Dec 2021 00:33:05:  19000000 \n",
      "INFO  @ Sun, 19 Dec 2021 00:33:07:  20000000 \n",
      "INFO  @ Sun, 19 Dec 2021 00:33:09:  21000000 \n",
      "INFO  @ Sun, 19 Dec 2021 00:33:12:  22000000 \n",
      "INFO  @ Sun, 19 Dec 2021 00:33:14:  23000000 \n",
      "INFO  @ Sun, 19 Dec 2021 00:33:16:  24000000 \n",
      "INFO  @ Sun, 19 Dec 2021 00:33:18:  25000000 \n",
      "INFO  @ Sun, 19 Dec 2021 00:33:20:  26000000 \n",
      "INFO  @ Sun, 19 Dec 2021 00:33:22:  27000000 \n",
      "INFO  @ Sun, 19 Dec 2021 00:33:25:  28000000 \n",
      "INFO  @ Sun, 19 Dec 2021 00:33:27:  29000000 \n",
      "INFO  @ Sun, 19 Dec 2021 00:33:29:  30000000 \n",
      "INFO  @ Sun, 19 Dec 2021 00:33:31:  31000000 \n",
      "INFO  @ Sun, 19 Dec 2021 00:33:34:  32000000 \n",
      "INFO  @ Sun, 19 Dec 2021 00:33:36:  33000000 \n",
      "INFO  @ Sun, 19 Dec 2021 00:33:38:  34000000 \n",
      "INFO  @ Sun, 19 Dec 2021 00:33:41:  35000000 \n",
      "INFO  @ Sun, 19 Dec 2021 00:33:43:  36000000 \n",
      "INFO  @ Sun, 19 Dec 2021 00:33:45:  37000000 \n",
      "INFO  @ Sun, 19 Dec 2021 00:33:47:  38000000 \n",
      "INFO  @ Sun, 19 Dec 2021 00:33:50:  39000000 \n",
      "INFO  @ Sun, 19 Dec 2021 00:33:52:  40000000 \n",
      "INFO  @ Sun, 19 Dec 2021 00:33:54:  41000000 \n",
      "INFO  @ Sun, 19 Dec 2021 00:33:57:  42000000 \n",
      "INFO  @ Sun, 19 Dec 2021 00:33:59:  43000000 \n",
      "INFO  @ Sun, 19 Dec 2021 00:34:01:  44000000 \n",
      "INFO  @ Sun, 19 Dec 2021 00:34:03:  45000000 \n",
      "INFO  @ Sun, 19 Dec 2021 00:34:06:  46000000 \n",
      "INFO  @ Sun, 19 Dec 2021 00:34:08:  47000000 \n",
      "INFO  @ Sun, 19 Dec 2021 00:34:10:  48000000 \n",
      "INFO  @ Sun, 19 Dec 2021 00:34:12:  49000000 \n",
      "INFO  @ Sun, 19 Dec 2021 00:34:15:  50000000 \n",
      "INFO  @ Sun, 19 Dec 2021 00:34:17:  51000000 \n",
      "INFO  @ Sun, 19 Dec 2021 00:34:19:  52000000 \n",
      "INFO  @ Sun, 19 Dec 2021 00:34:22:  53000000 \n",
      "INFO  @ Sun, 19 Dec 2021 00:34:24:  54000000 \n",
      "INFO  @ Sun, 19 Dec 2021 00:34:26:  55000000 \n",
      "INFO  @ Sun, 19 Dec 2021 00:34:29:  56000000 \n",
      "INFO  @ Sun, 19 Dec 2021 00:34:31:  57000000 \n",
      "INFO  @ Sun, 19 Dec 2021 00:34:33:  58000000 \n",
      "INFO  @ Sun, 19 Dec 2021 00:34:35:  59000000 \n",
      "INFO  @ Sun, 19 Dec 2021 00:34:38:  60000000 \n",
      "INFO  @ Sun, 19 Dec 2021 00:34:40:  61000000 \n",
      "INFO  @ Sun, 19 Dec 2021 00:34:42:  62000000 \n",
      "INFO  @ Sun, 19 Dec 2021 00:34:45:  63000000 \n",
      "INFO  @ Sun, 19 Dec 2021 00:34:47:  64000000 \n",
      "INFO  @ Sun, 19 Dec 2021 00:34:49:  65000000 \n",
      "INFO  @ Sun, 19 Dec 2021 00:34:51:  66000000 \n",
      "INFO  @ Sun, 19 Dec 2021 00:34:54:  67000000 \n",
      "INFO  @ Sun, 19 Dec 2021 00:34:56:  68000000 \n",
      "INFO  @ Sun, 19 Dec 2021 00:34:58:  69000000 \n",
      "INFO  @ Sun, 19 Dec 2021 00:35:01:  70000000 \n",
      "INFO  @ Sun, 19 Dec 2021 00:35:03:  71000000 \n",
      "INFO  @ Sun, 19 Dec 2021 00:35:05:  72000000 \n",
      "INFO  @ Sun, 19 Dec 2021 00:35:07:  73000000 \n",
      "INFO  @ Sun, 19 Dec 2021 00:35:10:  74000000 \n",
      "INFO  @ Sun, 19 Dec 2021 00:35:12:  75000000 \n",
      "INFO  @ Sun, 19 Dec 2021 00:35:14:  76000000 \n",
      "INFO  @ Sun, 19 Dec 2021 00:35:17:  77000000 \n",
      "INFO  @ Sun, 19 Dec 2021 00:35:19:  78000000 \n",
      "INFO  @ Sun, 19 Dec 2021 00:35:21:  79000000 \n",
      "INFO  @ Sun, 19 Dec 2021 00:35:24:  80000000 \n",
      "INFO  @ Sun, 19 Dec 2021 00:35:26:  81000000 \n",
      "INFO  @ Sun, 19 Dec 2021 00:35:28:  82000000 \n",
      "INFO  @ Sun, 19 Dec 2021 00:35:31:  83000000 \n",
      "INFO  @ Sun, 19 Dec 2021 00:35:33:  84000000 \n",
      "INFO  @ Sun, 19 Dec 2021 00:35:35:  85000000 \n",
      "INFO  @ Sun, 19 Dec 2021 00:35:37:  86000000 \n",
      "INFO  @ Sun, 19 Dec 2021 00:35:39:  87000000 \n",
      "INFO  @ Sun, 19 Dec 2021 00:35:42:  88000000 \n",
      "INFO  @ Sun, 19 Dec 2021 00:35:44:  89000000 \n",
      "INFO  @ Sun, 19 Dec 2021 00:35:46:  90000000 \n",
      "INFO  @ Sun, 19 Dec 2021 00:35:48:  91000000 \n",
      "INFO  @ Sun, 19 Dec 2021 00:35:50:  92000000 \n",
      "INFO  @ Sun, 19 Dec 2021 00:35:53:  93000000 \n",
      "INFO  @ Sun, 19 Dec 2021 00:35:59:  94000000 \n",
      "INFO  @ Sun, 19 Dec 2021 00:36:15:  95000000 \n",
      "INFO  @ Sun, 19 Dec 2021 00:36:24:  96000000 \n",
      "INFO  @ Sun, 19 Dec 2021 00:36:26:  97000000 \n",
      "INFO  @ Sun, 19 Dec 2021 00:36:28:  98000000 \n",
      "INFO  @ Sun, 19 Dec 2021 00:36:31:  99000000 \n",
      "INFO  @ Sun, 19 Dec 2021 00:36:36:  100000000 \n",
      "INFO  @ Sun, 19 Dec 2021 00:36:38:  101000000 \n",
      "INFO  @ Sun, 19 Dec 2021 00:36:41:  102000000 \n",
      "INFO  @ Sun, 19 Dec 2021 00:36:43:  103000000 \n",
      "INFO  @ Sun, 19 Dec 2021 00:36:46:  104000000 \n",
      "INFO  @ Sun, 19 Dec 2021 00:36:48:  105000000 \n",
      "INFO  @ Sun, 19 Dec 2021 00:36:50:  106000000 \n",
      "INFO  @ Sun, 19 Dec 2021 00:36:55:  107000000 \n",
      "INFO  @ Sun, 19 Dec 2021 00:36:58:  108000000 \n",
      "INFO  @ Sun, 19 Dec 2021 00:37:00:  109000000 \n",
      "INFO  @ Sun, 19 Dec 2021 00:37:03:  110000000 \n",
      "INFO  @ Sun, 19 Dec 2021 00:37:05:  111000000 \n",
      "INFO  @ Sun, 19 Dec 2021 00:37:07:  112000000 \n",
      "INFO  @ Sun, 19 Dec 2021 00:37:10:  113000000 \n",
      "INFO  @ Sun, 19 Dec 2021 00:37:15:  114000000 \n",
      "INFO  @ Sun, 19 Dec 2021 00:37:17:  115000000 \n",
      "INFO  @ Sun, 19 Dec 2021 00:37:20:  116000000 \n",
      "INFO  @ Sun, 19 Dec 2021 00:37:22:  117000000 \n",
      "INFO  @ Sun, 19 Dec 2021 00:37:24:  118000000 \n",
      "INFO  @ Sun, 19 Dec 2021 00:37:27:  119000000 \n",
      "INFO  @ Sun, 19 Dec 2021 00:37:32:  120000000 \n",
      "INFO  @ Sun, 19 Dec 2021 00:37:34:  121000000 \n",
      "INFO  @ Sun, 19 Dec 2021 00:37:37:  122000000 \n",
      "INFO  @ Sun, 19 Dec 2021 00:37:39:  123000000 \n",
      "INFO  @ Sun, 19 Dec 2021 00:37:42:  124000000 \n",
      "INFO  @ Sun, 19 Dec 2021 00:37:44:  125000000 \n",
      "INFO  @ Sun, 19 Dec 2021 00:37:50:  126000000 \n",
      "INFO  @ Sun, 19 Dec 2021 00:37:52:  127000000 \n",
      "INFO  @ Sun, 19 Dec 2021 00:37:54:  128000000 \n",
      "INFO  @ Sun, 19 Dec 2021 00:37:57:  129000000 \n",
      "INFO  @ Sun, 19 Dec 2021 00:37:59:  130000000 \n",
      "INFO  @ Sun, 19 Dec 2021 00:38:02:  131000000 \n",
      "INFO  @ Sun, 19 Dec 2021 00:38:07:  132000000 \n",
      "INFO  @ Sun, 19 Dec 2021 00:38:09:  133000000 \n",
      "INFO  @ Sun, 19 Dec 2021 00:38:11:  134000000 \n",
      "INFO  @ Sun, 19 Dec 2021 00:38:14:  135000000 \n",
      "INFO  @ Sun, 19 Dec 2021 00:38:16:  136000000 \n",
      "INFO  @ Sun, 19 Dec 2021 00:38:18:  137000000 \n",
      "INFO  @ Sun, 19 Dec 2021 00:38:24:  138000000 \n",
      "INFO  @ Sun, 19 Dec 2021 00:38:26:  139000000 \n",
      "INFO  @ Sun, 19 Dec 2021 00:38:28:  140000000 \n",
      "INFO  @ Sun, 19 Dec 2021 00:38:31:  141000000 \n",
      "INFO  @ Sun, 19 Dec 2021 00:38:33:  142000000 \n",
      "INFO  @ Sun, 19 Dec 2021 00:38:36:  143000000 \n",
      "INFO  @ Sun, 19 Dec 2021 00:38:45:  144000000 \n",
      "INFO  @ Sun, 19 Dec 2021 00:39:03:  145000000 \n",
      "INFO  @ Sun, 19 Dec 2021 00:39:21:  146000000 \n",
      "INFO  @ Sun, 19 Dec 2021 00:39:38:  147000000 \n",
      "INFO  @ Sun, 19 Dec 2021 00:39:54:  148000000 \n",
      "INFO  @ Sun, 19 Dec 2021 00:40:11:  149000000 \n",
      "INFO  @ Sun, 19 Dec 2021 00:40:29:  150000000 \n",
      "INFO  @ Sun, 19 Dec 2021 00:40:49:  151000000 \n",
      "INFO  @ Sun, 19 Dec 2021 00:41:11:  152000000 \n",
      "INFO  @ Sun, 19 Dec 2021 00:41:29:  153000000 \n",
      "INFO  @ Sun, 19 Dec 2021 00:41:43:  154000000 \n",
      "INFO  @ Sun, 19 Dec 2021 00:41:51:  155000000 \n",
      "INFO  @ Sun, 19 Dec 2021 00:41:53:  156000000 \n",
      "INFO  @ Sun, 19 Dec 2021 00:41:55:  157000000 \n"
     ]
    },
    {
     "name": "stdout",
     "output_type": "stream",
     "text": [
      "INFO  @ Sun, 19 Dec 2021 00:41:58:  158000000 \n",
      "INFO  @ Sun, 19 Dec 2021 00:42:00:  159000000 \n",
      "INFO  @ Sun, 19 Dec 2021 00:42:02:  160000000 \n",
      "INFO  @ Sun, 19 Dec 2021 00:42:05:  161000000 \n",
      "INFO  @ Sun, 19 Dec 2021 00:42:07:  162000000 \n",
      "INFO  @ Sun, 19 Dec 2021 00:42:09:  163000000 \n",
      "INFO  @ Sun, 19 Dec 2021 00:42:12:  164000000 \n",
      "INFO  @ Sun, 19 Dec 2021 00:42:14:  165000000 \n",
      "INFO  @ Sun, 19 Dec 2021 00:42:16:  166000000 \n",
      "INFO  @ Sun, 19 Dec 2021 00:42:19:  167000000 \n",
      "INFO  @ Sun, 19 Dec 2021 00:42:21:  168000000 \n",
      "INFO  @ Sun, 19 Dec 2021 00:42:23:  169000000 \n",
      "INFO  @ Sun, 19 Dec 2021 00:42:26:  170000000 \n",
      "INFO  @ Sun, 19 Dec 2021 00:42:28:  171000000 \n",
      "INFO  @ Sun, 19 Dec 2021 00:42:30:  172000000 \n",
      "INFO  @ Sun, 19 Dec 2021 00:42:33:  173000000 \n",
      "INFO  @ Sun, 19 Dec 2021 00:42:35:  174000000 \n",
      "INFO  @ Sun, 19 Dec 2021 00:42:37:  175000000 \n",
      "INFO  @ Sun, 19 Dec 2021 00:42:39:  176000000 \n",
      "INFO  @ Sun, 19 Dec 2021 00:42:42:  177000000 \n",
      "INFO  @ Sun, 19 Dec 2021 00:42:45:  178000000 \n",
      "INFO  @ Sun, 19 Dec 2021 00:42:48:  179000000 \n",
      "INFO  @ Sun, 19 Dec 2021 00:42:50:  180000000 \n",
      "INFO  @ Sun, 19 Dec 2021 00:42:53:  181000000 \n",
      "INFO  @ Sun, 19 Dec 2021 00:42:55:  182000000 \n",
      "INFO  @ Sun, 19 Dec 2021 00:42:58:  183000000 \n",
      "INFO  @ Sun, 19 Dec 2021 00:43:00:  184000000 \n",
      "INFO  @ Sun, 19 Dec 2021 00:43:02:  185000000 \n",
      "INFO  @ Sun, 19 Dec 2021 00:43:04:  186000000 \n",
      "INFO  @ Sun, 19 Dec 2021 00:43:06:  187000000 \n",
      "INFO  @ Sun, 19 Dec 2021 00:43:08:  188000000 \n",
      "INFO  @ Sun, 19 Dec 2021 00:43:10:  189000000 \n",
      "INFO  @ Sun, 19 Dec 2021 00:43:12:  190000000 \n",
      "INFO  @ Sun, 19 Dec 2021 00:43:15: #1.2 read input tags... \n",
      "INFO  @ Sun, 19 Dec 2021 00:43:15: Detected format is: BAM \n",
      "INFO  @ Sun, 19 Dec 2021 00:43:15: * Input file is gzipped. \n",
      "INFO  @ Sun, 19 Dec 2021 00:43:18:  1000000 \n",
      "INFO  @ Sun, 19 Dec 2021 00:43:21:  2000000 \n",
      "INFO  @ Sun, 19 Dec 2021 00:43:23:  3000000 \n",
      "INFO  @ Sun, 19 Dec 2021 00:43:26:  4000000 \n",
      "INFO  @ Sun, 19 Dec 2021 00:43:29:  5000000 \n",
      "INFO  @ Sun, 19 Dec 2021 00:43:32:  6000000 \n",
      "INFO  @ Sun, 19 Dec 2021 00:43:34:  7000000 \n",
      "INFO  @ Sun, 19 Dec 2021 00:43:37:  8000000 \n",
      "INFO  @ Sun, 19 Dec 2021 00:43:39:  9000000 \n",
      "INFO  @ Sun, 19 Dec 2021 00:43:41:  10000000 \n",
      "INFO  @ Sun, 19 Dec 2021 00:43:44:  11000000 \n",
      "INFO  @ Sun, 19 Dec 2021 00:43:46:  12000000 \n",
      "INFO  @ Sun, 19 Dec 2021 00:43:48:  13000000 \n",
      "INFO  @ Sun, 19 Dec 2021 00:43:51:  14000000 \n",
      "INFO  @ Sun, 19 Dec 2021 00:43:54:  15000000 \n",
      "INFO  @ Sun, 19 Dec 2021 00:43:56:  16000000 \n",
      "INFO  @ Sun, 19 Dec 2021 00:43:58:  17000000 \n",
      "INFO  @ Sun, 19 Dec 2021 00:44:00:  18000000 \n",
      "INFO  @ Sun, 19 Dec 2021 00:44:03:  19000000 \n",
      "INFO  @ Sun, 19 Dec 2021 00:44:05:  20000000 \n",
      "INFO  @ Sun, 19 Dec 2021 00:44:07:  21000000 \n",
      "INFO  @ Sun, 19 Dec 2021 00:44:09:  22000000 \n",
      "INFO  @ Sun, 19 Dec 2021 00:44:11:  23000000 \n",
      "INFO  @ Sun, 19 Dec 2021 00:44:14:  24000000 \n",
      "INFO  @ Sun, 19 Dec 2021 00:44:16:  25000000 \n",
      "INFO  @ Sun, 19 Dec 2021 00:44:18:  26000000 \n",
      "INFO  @ Sun, 19 Dec 2021 00:44:21:  27000000 \n",
      "INFO  @ Sun, 19 Dec 2021 00:44:23:  28000000 \n",
      "INFO  @ Sun, 19 Dec 2021 00:44:25:  29000000 \n",
      "INFO  @ Sun, 19 Dec 2021 00:44:28:  30000000 \n",
      "INFO  @ Sun, 19 Dec 2021 00:44:30:  31000000 \n",
      "INFO  @ Sun, 19 Dec 2021 00:44:33:  32000000 \n",
      "INFO  @ Sun, 19 Dec 2021 00:44:35:  33000000 \n",
      "INFO  @ Sun, 19 Dec 2021 00:44:38:  34000000 \n",
      "INFO  @ Sun, 19 Dec 2021 00:44:40:  35000000 \n",
      "INFO  @ Sun, 19 Dec 2021 00:44:43:  36000000 \n",
      "INFO  @ Sun, 19 Dec 2021 00:44:45:  37000000 \n",
      "INFO  @ Sun, 19 Dec 2021 00:44:48:  38000000 \n",
      "INFO  @ Sun, 19 Dec 2021 00:44:51:  39000000 \n",
      "INFO  @ Sun, 19 Dec 2021 00:44:53:  40000000 \n",
      "INFO  @ Sun, 19 Dec 2021 00:44:56:  41000000 \n",
      "INFO  @ Sun, 19 Dec 2021 00:44:58:  42000000 \n",
      "INFO  @ Sun, 19 Dec 2021 00:45:01:  43000000 \n",
      "INFO  @ Sun, 19 Dec 2021 00:45:03:  44000000 \n",
      "INFO  @ Sun, 19 Dec 2021 00:45:05:  45000000 \n",
      "INFO  @ Sun, 19 Dec 2021 00:45:08:  46000000 \n",
      "INFO  @ Sun, 19 Dec 2021 00:45:10:  47000000 \n",
      "INFO  @ Sun, 19 Dec 2021 00:45:13:  48000000 \n",
      "INFO  @ Sun, 19 Dec 2021 00:45:15:  49000000 \n",
      "INFO  @ Sun, 19 Dec 2021 00:45:20:  50000000 \n",
      "INFO  @ Sun, 19 Dec 2021 00:45:22:  51000000 \n",
      "INFO  @ Sun, 19 Dec 2021 00:45:24:  52000000 \n",
      "INFO  @ Sun, 19 Dec 2021 00:45:27:  53000000 \n",
      "INFO  @ Sun, 19 Dec 2021 00:45:29:  54000000 \n",
      "INFO  @ Sun, 19 Dec 2021 00:45:32:  55000000 \n",
      "INFO  @ Sun, 19 Dec 2021 00:45:35:  56000000 \n",
      "INFO  @ Sun, 19 Dec 2021 00:45:38:  57000000 \n",
      "INFO  @ Sun, 19 Dec 2021 00:45:40:  58000000 \n",
      "INFO  @ Sun, 19 Dec 2021 00:45:42:  59000000 \n",
      "INFO  @ Sun, 19 Dec 2021 00:45:45:  60000000 \n",
      "INFO  @ Sun, 19 Dec 2021 00:45:48:  61000000 \n",
      "INFO  @ Sun, 19 Dec 2021 00:45:51:  62000000 \n",
      "INFO  @ Sun, 19 Dec 2021 00:45:53:  63000000 \n",
      "INFO  @ Sun, 19 Dec 2021 00:45:56:  64000000 \n",
      "INFO  @ Sun, 19 Dec 2021 00:45:58:  65000000 \n",
      "INFO  @ Sun, 19 Dec 2021 00:46:00:  66000000 \n",
      "INFO  @ Sun, 19 Dec 2021 00:46:04:  67000000 \n",
      "INFO  @ Sun, 19 Dec 2021 00:46:06:  68000000 \n",
      "INFO  @ Sun, 19 Dec 2021 00:46:09:  69000000 \n",
      "INFO  @ Sun, 19 Dec 2021 00:46:11:  70000000 \n",
      "INFO  @ Sun, 19 Dec 2021 00:46:14:  71000000 \n",
      "INFO  @ Sun, 19 Dec 2021 00:46:17:  72000000 \n",
      "INFO  @ Sun, 19 Dec 2021 00:46:20:  73000000 \n",
      "INFO  @ Sun, 19 Dec 2021 00:46:22:  74000000 \n",
      "INFO  @ Sun, 19 Dec 2021 00:46:25:  75000000 \n",
      "INFO  @ Sun, 19 Dec 2021 00:46:27:  76000000 \n",
      "INFO  @ Sun, 19 Dec 2021 00:46:31:  77000000 \n",
      "INFO  @ Sun, 19 Dec 2021 00:46:33:  78000000 \n",
      "INFO  @ Sun, 19 Dec 2021 00:46:36:  79000000 \n",
      "INFO  @ Sun, 19 Dec 2021 00:46:38:  80000000 \n",
      "INFO  @ Sun, 19 Dec 2021 00:46:41:  81000000 \n",
      "INFO  @ Sun, 19 Dec 2021 00:46:43:  82000000 \n",
      "INFO  @ Sun, 19 Dec 2021 00:46:46:  83000000 \n",
      "INFO  @ Sun, 19 Dec 2021 00:46:49:  84000000 \n",
      "INFO  @ Sun, 19 Dec 2021 00:46:51:  85000000 \n",
      "INFO  @ Sun, 19 Dec 2021 00:46:53:  86000000 \n",
      "INFO  @ Sun, 19 Dec 2021 00:46:56:  87000000 \n",
      "INFO  @ Sun, 19 Dec 2021 00:46:58:  88000000 \n",
      "INFO  @ Sun, 19 Dec 2021 00:47:00:  89000000 \n",
      "INFO  @ Sun, 19 Dec 2021 00:47:03:  90000000 \n",
      "INFO  @ Sun, 19 Dec 2021 00:47:05:  91000000 \n",
      "INFO  @ Sun, 19 Dec 2021 00:47:08:  92000000 \n",
      "INFO  @ Sun, 19 Dec 2021 00:47:11:  93000000 \n",
      "INFO  @ Sun, 19 Dec 2021 00:47:17:  94000000 \n",
      "INFO  @ Sun, 19 Dec 2021 00:47:20:  95000000 \n",
      "INFO  @ Sun, 19 Dec 2021 00:47:22:  96000000 \n",
      "INFO  @ Sun, 19 Dec 2021 00:47:24:  97000000 \n",
      "INFO  @ Sun, 19 Dec 2021 00:47:27:  98000000 \n",
      "INFO  @ Sun, 19 Dec 2021 00:47:30:  99000000 \n",
      "INFO  @ Sun, 19 Dec 2021 00:47:32:  100000000 \n",
      "INFO  @ Sun, 19 Dec 2021 00:47:35:  101000000 \n",
      "INFO  @ Sun, 19 Dec 2021 00:47:37:  102000000 \n",
      "INFO  @ Sun, 19 Dec 2021 00:47:39:  103000000 \n",
      "INFO  @ Sun, 19 Dec 2021 00:47:42:  104000000 \n",
      "INFO  @ Sun, 19 Dec 2021 00:47:44:  105000000 \n",
      "INFO  @ Sun, 19 Dec 2021 00:47:47:  106000000 \n",
      "INFO  @ Sun, 19 Dec 2021 00:47:49:  107000000 \n",
      "INFO  @ Sun, 19 Dec 2021 00:47:52:  108000000 \n",
      "INFO  @ Sun, 19 Dec 2021 00:47:54:  109000000 \n",
      "INFO  @ Sun, 19 Dec 2021 00:47:56:  110000000 \n",
      "INFO  @ Sun, 19 Dec 2021 00:47:59:  111000000 \n",
      "INFO  @ Sun, 19 Dec 2021 00:48:02:  112000000 \n",
      "INFO  @ Sun, 19 Dec 2021 00:48:04:  113000000 \n",
      "INFO  @ Sun, 19 Dec 2021 00:48:06:  114000000 \n",
      "INFO  @ Sun, 19 Dec 2021 00:48:09:  115000000 \n",
      "INFO  @ Sun, 19 Dec 2021 00:48:11:  116000000 \n",
      "INFO  @ Sun, 19 Dec 2021 00:48:14:  117000000 \n",
      "INFO  @ Sun, 19 Dec 2021 00:48:16:  118000000 \n",
      "INFO  @ Sun, 19 Dec 2021 00:48:19:  119000000 \n",
      "INFO  @ Sun, 19 Dec 2021 00:48:21:  120000000 \n",
      "INFO  @ Sun, 19 Dec 2021 00:48:24:  121000000 \n",
      "INFO  @ Sun, 19 Dec 2021 00:48:29:  122000000 \n",
      "INFO  @ Sun, 19 Dec 2021 00:48:31:  123000000 \n",
      "INFO  @ Sun, 19 Dec 2021 00:48:34:  124000000 \n",
      "INFO  @ Sun, 19 Dec 2021 00:48:36:  125000000 \n",
      "INFO  @ Sun, 19 Dec 2021 00:48:39:  126000000 \n",
      "INFO  @ Sun, 19 Dec 2021 00:48:41:  127000000 \n",
      "INFO  @ Sun, 19 Dec 2021 00:48:43:  128000000 \n",
      "INFO  @ Sun, 19 Dec 2021 00:48:46:  129000000 \n",
      "INFO  @ Sun, 19 Dec 2021 00:48:48:  130000000 \n",
      "INFO  @ Sun, 19 Dec 2021 00:48:50:  131000000 \n",
      "INFO  @ Sun, 19 Dec 2021 00:48:54:  132000000 \n",
      "INFO  @ Sun, 19 Dec 2021 00:48:56:  133000000 \n",
      "INFO  @ Sun, 19 Dec 2021 00:48:58:  134000000 \n",
      "INFO  @ Sun, 19 Dec 2021 00:49:01:  135000000 \n",
      "INFO  @ Sun, 19 Dec 2021 00:49:03:  136000000 \n",
      "INFO  @ Sun, 19 Dec 2021 00:49:05:  137000000 \n",
      "INFO  @ Sun, 19 Dec 2021 00:49:08:  138000000 \n",
      "INFO  @ Sun, 19 Dec 2021 00:49:10:  139000000 \n",
      "INFO  @ Sun, 19 Dec 2021 00:49:13:  140000000 \n"
     ]
    },
    {
     "name": "stdout",
     "output_type": "stream",
     "text": [
      "INFO  @ Sun, 19 Dec 2021 00:49:16:  141000000 \n",
      "INFO  @ Sun, 19 Dec 2021 00:49:18:  142000000 \n",
      "INFO  @ Sun, 19 Dec 2021 00:49:20:  143000000 \n",
      "INFO  @ Sun, 19 Dec 2021 00:49:23:  144000000 \n",
      "INFO  @ Sun, 19 Dec 2021 00:49:25:  145000000 \n",
      "INFO  @ Sun, 19 Dec 2021 00:49:28:  146000000 \n",
      "INFO  @ Sun, 19 Dec 2021 00:49:30:  147000000 \n",
      "INFO  @ Sun, 19 Dec 2021 00:49:33:  148000000 \n",
      "INFO  @ Sun, 19 Dec 2021 00:49:35:  149000000 \n",
      "INFO  @ Sun, 19 Dec 2021 00:49:38:  150000000 \n",
      "INFO  @ Sun, 19 Dec 2021 00:49:40:  151000000 \n",
      "INFO  @ Sun, 19 Dec 2021 00:49:42:  152000000 \n",
      "INFO  @ Sun, 19 Dec 2021 00:49:45:  153000000 \n",
      "INFO  @ Sun, 19 Dec 2021 00:49:48:  154000000 \n",
      "INFO  @ Sun, 19 Dec 2021 00:49:50:  155000000 \n",
      "INFO  @ Sun, 19 Dec 2021 00:49:52:  156000000 \n",
      "INFO  @ Sun, 19 Dec 2021 00:49:55:  157000000 \n",
      "INFO  @ Sun, 19 Dec 2021 00:49:57:  158000000 \n",
      "INFO  @ Sun, 19 Dec 2021 00:50:00:  159000000 \n",
      "INFO  @ Sun, 19 Dec 2021 00:50:03:  160000000 \n",
      "INFO  @ Sun, 19 Dec 2021 00:50:06:  161000000 \n",
      "INFO  @ Sun, 19 Dec 2021 00:50:09:  162000000 \n",
      "INFO  @ Sun, 19 Dec 2021 00:50:11:  163000000 \n",
      "INFO  @ Sun, 19 Dec 2021 00:50:13:  164000000 \n",
      "INFO  @ Sun, 19 Dec 2021 00:50:16:  165000000 \n",
      "INFO  @ Sun, 19 Dec 2021 00:50:18:  166000000 \n",
      "INFO  @ Sun, 19 Dec 2021 00:50:21:  167000000 \n",
      "INFO  @ Sun, 19 Dec 2021 00:50:23:  168000000 \n",
      "INFO  @ Sun, 19 Dec 2021 00:50:25:  169000000 \n",
      "INFO  @ Sun, 19 Dec 2021 00:50:28:  170000000 \n",
      "INFO  @ Sun, 19 Dec 2021 00:50:31:  171000000 \n",
      "INFO  @ Sun, 19 Dec 2021 00:50:33:  172000000 \n",
      "INFO  @ Sun, 19 Dec 2021 00:50:35:  173000000 \n",
      "INFO  @ Sun, 19 Dec 2021 00:50:38:  174000000 \n",
      "INFO  @ Sun, 19 Dec 2021 00:50:40:  175000000 \n",
      "INFO  @ Sun, 19 Dec 2021 00:50:43:  176000000 \n",
      "INFO  @ Sun, 19 Dec 2021 00:50:45:  177000000 \n",
      "INFO  @ Sun, 19 Dec 2021 00:50:47:  178000000 \n",
      "INFO  @ Sun, 19 Dec 2021 00:50:50:  179000000 \n",
      "INFO  @ Sun, 19 Dec 2021 00:50:52:  180000000 \n",
      "INFO  @ Sun, 19 Dec 2021 00:50:55:  181000000 \n",
      "INFO  @ Sun, 19 Dec 2021 00:50:58:  182000000 \n",
      "INFO  @ Sun, 19 Dec 2021 00:51:00:  183000000 \n",
      "INFO  @ Sun, 19 Dec 2021 00:51:02:  184000000 \n",
      "INFO  @ Sun, 19 Dec 2021 00:51:04:  185000000 \n",
      "INFO  @ Sun, 19 Dec 2021 00:51:06:  186000000 \n",
      "INFO  @ Sun, 19 Dec 2021 00:51:09:  187000000 \n",
      "INFO  @ Sun, 19 Dec 2021 00:51:11:  188000000 \n",
      "INFO  @ Sun, 19 Dec 2021 00:51:13:  189000000 \n",
      "INFO  @ Sun, 19 Dec 2021 00:51:14:  190000000 \n",
      "INFO  @ Sun, 19 Dec 2021 00:51:16:  191000000 \n",
      "INFO  @ Sun, 19 Dec 2021 00:51:19: #1 tag size is determined as 50 bps \n",
      "INFO  @ Sun, 19 Dec 2021 00:51:19: #1 tag size = 50.0 \n",
      "INFO  @ Sun, 19 Dec 2021 00:51:19: #1  total tags in treatment: 183896016 \n",
      "INFO  @ Sun, 19 Dec 2021 00:51:19: #1 user defined the maximum tags... \n",
      "INFO  @ Sun, 19 Dec 2021 00:51:19: #1 filter out redundant tags at the same location and the same strand by allowing at most 1 tag(s) \n",
      "INFO  @ Sun, 19 Dec 2021 00:51:23: #1  tags after filtering in treatment: 144277918 \n",
      "INFO  @ Sun, 19 Dec 2021 00:51:23: #1  Redundant rate of treatment: 0.22 \n",
      "INFO  @ Sun, 19 Dec 2021 00:51:23: #1  total tags in control: 188104729 \n",
      "INFO  @ Sun, 19 Dec 2021 00:51:23: #1 user defined the maximum tags... \n",
      "INFO  @ Sun, 19 Dec 2021 00:51:23: #1 filter out redundant tags at the same location and the same strand by allowing at most 1 tag(s) \n",
      "INFO  @ Sun, 19 Dec 2021 00:51:26: #1  tags after filtering in control: 149933113 \n",
      "INFO  @ Sun, 19 Dec 2021 00:51:26: #1  Redundant rate of control: 0.20 \n",
      "INFO  @ Sun, 19 Dec 2021 00:51:26: #1 finished! \n",
      "INFO  @ Sun, 19 Dec 2021 00:51:26: #2 Build Peak Model... \n",
      "INFO  @ Sun, 19 Dec 2021 00:51:26: #2 looking for paired plus/minus strand peaks... \n",
      "INFO  @ Sun, 19 Dec 2021 00:51:38: #2 number of paired peaks: 4481 \n",
      "INFO  @ Sun, 19 Dec 2021 00:51:38: start model_add_line... \n",
      "INFO  @ Sun, 19 Dec 2021 00:51:40: start X-correlation... \n",
      "INFO  @ Sun, 19 Dec 2021 00:51:40: end of X-cor \n",
      "INFO  @ Sun, 19 Dec 2021 00:51:40: #2 finished! \n",
      "INFO  @ Sun, 19 Dec 2021 00:51:40: #2 predicted fragment length is 159 bps \n",
      "INFO  @ Sun, 19 Dec 2021 00:51:40: #2 alternative fragment length(s) may be 159 bps \n",
      "INFO  @ Sun, 19 Dec 2021 00:51:40: #2.2 Generate R script for model : six1_model.r \n",
      "INFO  @ Sun, 19 Dec 2021 00:51:40: #3 Call peaks... \n",
      "INFO  @ Sun, 19 Dec 2021 00:51:40: #3 Pre-compute pvalue-qvalue table... \n",
      "INFO  @ Sun, 19 Dec 2021 01:02:36: #3 Call peaks for each chromosome... \n"
     ]
    }
   ],
   "source": [
    "macs2 callpeak -t ChIP_Six1.sorted.bam -c ChIP_input.sorted.bam -n six1 -g 2730855475 -q 0.5\n",
    "#replace genome size\n",
    "#-c ChIP_input.sorted.bam\n",
    "#maybe change the qvalue threshold"
   ]
  },
  {
   "cell_type": "code",
   "execution_count": 7,
   "metadata": {},
   "outputs": [
    {
     "name": "stdout",
     "output_type": "stream",
     "text": [
      "six_1_peaks.narrowPeak  six_1_peaks.xls\n"
     ]
    }
   ],
   "source": [
    "ls *peaks*"
   ]
  },
  {
   "cell_type": "markdown",
   "metadata": {},
   "source": [
    "macs2 produces the following 4 files:\n",
    "\n",
    "* `Six1_peaks.xls`: is a tabular file which contains information about called peaks. You can open it in excel and sort/filter using excel functions. Information include position, length and height of detected peak etc.\n",
    "* `Six1_peaks.narrowPeak`: is BED6+4 format file which contains the peak locations together with peak summit, p-value and q-value. You can load it directly to IGV or UCSC genome browser.\n",
    "* `Six1_summits.bed`: is in BED format, which contains the peak summits locations for every peaks. The 5th column in this file is -log10p-value the same as NAME_peaks.bed. If you want to find the motifs at the binding sites, this file is recommended. The file can be loaded directly to UCSC genome browser. But remember to remove the beginning track line if you want to analyze it by other tools.\n",
    "* `Six1_model.r`: is an R script which you can use to produce a PDF image about the model based on your data. Load it to R by: `$ Rscript NAME_model.r` Then a pdf file NAME_model.pdf will be generated in your current directory. Note, R is required to draw this figure."
   ]
  },
  {
   "cell_type": "markdown",
   "metadata": {},
   "source": [
    "How many peaks were called?"
   ]
  },
  {
   "cell_type": "code",
   "execution_count": 9,
   "metadata": {},
   "outputs": [
    {
     "name": "stdout",
     "output_type": "stream",
     "text": [
      "212140\n"
     ]
    }
   ],
   "source": [
    "cat six_1_peaks.narrowPeak | wc -l"
   ]
  },
  {
   "cell_type": "markdown",
   "metadata": {},
   "source": [
    "Copy the `Six1_peaks.narrowPeak` file to your computer, and open it in IGV."
   ]
  },
  {
   "cell_type": "code",
   "execution_count": 7,
   "metadata": {},
   "outputs": [],
   "source": [
    "sort -k 9 six_1_peaks.narrowPeak six_1_peaks.narrowPeak > sorted.six1_peaks.narrowPeak"
   ]
  },
  {
   "cell_type": "code",
   "execution_count": 8,
   "metadata": {},
   "outputs": [],
   "source": [
    "head -10000 sorted.six1_peaks.narrowPeak > head10000.sorted.six1_peaks.narrowPeak"
   ]
  },
  {
   "cell_type": "code",
   "execution_count": 9,
   "metadata": {},
   "outputs": [],
   "source": [
    "cat head10000.sorted.six1_peaks.narrowPeak | cut -f 1-3 > six1_10k_peaks.bed"
   ]
  },
  {
   "cell_type": "code",
   "execution_count": null,
   "metadata": {},
   "outputs": [],
   "source": [
    "computeMatrix reference-point \\\n",
    "    -S six1.bw \\\n",
    "    -R six1_10k_peaks.bed \\\n",
    "    --referencePoint center \\\n",
    "    -a 2000 \\\n",
    "    -b 2000 \\\n",
    "    --binSize 5 \\\n",
    "    -out six1_10k.tab.gz"
   ]
  },
  {
   "cell_type": "code",
   "execution_count": 19,
   "metadata": {},
   "outputs": [],
   "source": [
    "plotHeatmap \\\n",
    "    -m six1_10k.tab.gz \\\n",
    "    -out six1_10k_peaks.png \\\n",
    "    --heatmapHeight 15  \\\n",
    "    --refPointLabel peak.center \\\n",
    "    --regionsLabel peaks \\\n",
    "    --plotTitle 'ChIP-seq signal'"
   ]
  },
  {
   "cell_type": "markdown",
   "metadata": {},
   "source": [
    "### Motif Analysis"
   ]
  },
  {
   "cell_type": "markdown",
   "metadata": {},
   "source": [
    "#### 1. De novo motif discovery\n",
    "\n",
    "Run RSAT peak-motifs at the RSAT website http://rsat.sb-roscoff.fr\n",
    "\n",
    "Here is a tutorial for RSAT peak-motifs: http://embnet.ccg.unam.mx/rsat//htmllink.cgi?title=RSAT-tutorials&file=tutorials/tut_peak-motifs.html\n",
    "\n",
    "Background information about position-specific scoring matrices (PSSM) is here: http://embnet.ccg.unam.mx/rsat//htmllink.cgi?title=RSAT-tutorials&file=tutorials/tut_peak-motifs.html\n",
    "\n",
    "Before running peak-motifs, you need as input the <b>FASTA sequences of the peaks</b>. How to get these?\n",
    "One option: use fetch-sequences from UCSC in RSAT first. http://rsat.sb-roscoff.fr/fetch-sequences_form.php.\n",
    "Other options include UCSC Table Browser (first make a custom track of your peak BED file) or command-line (e.g., using BEDTools).\n",
    "\n"
   ]
  },
  {
   "cell_type": "markdown",
   "metadata": {},
   "source": [
    "See the master notebook for the outcome of RSAT. "
   ]
  },
  {
   "cell_type": "markdown",
   "metadata": {},
   "source": [
    "#### Create a BED file with only the DIRECT peaks = peaks with the TP53 motif\n",
    "\n",
    "1253 peaks have a predicted site, you can download these by clicking on the \"sites\" link on the RSAT results page."
   ]
  },
  {
   "cell_type": "code",
   "execution_count": 1,
   "metadata": {},
   "outputs": [
    {
     "name": "stdout",
     "output_type": "stream",
     "text": [
      "seq_id\tft_type\tft_name\tstrand\tstart\tend\tsequence\tweight\n",
      "mm10_chr3_101575727_101575952_+\tsite\toligos_6nt_mkv4_m1oligos_6nt_mkv4_m1\tR\t30\t39\tTGACCTCAGC\t8.0\n",
      "mm10_chr3_101575727_101575952_+\tsite\toligos_6nt_mkv4_m1oligos_6nt_mkv4_m1\tR\t30\t39\tTGACCTCAGC\t8.0\n",
      "mm10_chr18_57255107_57255265_+\tsite\toligos_6nt_mkv4_m1oligos_6nt_mkv4_m1\tR\t-31\t-22\tGAACCTCAAC\t7.5\n",
      "mm10_chr18_57255107_57255265_+\tsite\toligos_6nt_mkv4_m1oligos_6nt_mkv4_m1\tR\t-31\t-22\tGAACCTCAAC\t7.5\n",
      "mm10_chr9_3346349_3346543_+\tsite\toligos_6nt_mkv4_m1oligos_6nt_mkv4_m1\tD\t-86\t-77\tCTACCTCAGG\t7.8\n",
      "mm10_chr9_3346349_3346543_+\tsite\toligos_6nt_mkv4_m1oligos_6nt_mkv4_m1\tD\t-86\t-77\tCTACCTCAGG\t7.8\n",
      "mm10_chr5_22343864_22344237_+\tsite\toligos_6nt_mkv4_m1oligos_6nt_mkv4_m1\tR\t11\t20\tCTACCTCAGC\t8.0\n",
      "mm10_chr5_22343864_22344237_+\tsite\toligos_6nt_mkv4_m1oligos_6nt_mkv4_m1\tR\t11\t20\tCTACCTCAGC\t8.0\n",
      "mm10_chr12_85232808_85233071_+\tsite\toligos_6nt_mkv4_m1oligos_6nt_mkv4_m1\tR\t30\t39\tGTACCTCAGC\t8.1\n",
      "grep: write error: Broken pipe\n"
     ]
    }
   ],
   "source": [
    "cat peak-motifs_oligos_6nt_mkv4_m1_sites.tab | grep -v \";\" | grep -v '#' | head"
   ]
  },
  {
   "cell_type": "code",
   "execution_count": 2,
   "metadata": {},
   "outputs": [
    {
     "name": "stdout",
     "output_type": "stream",
     "text": [
      "id\n",
      "chr3\t101575727\t101575952\n",
      "chr3\t101575727\t101575952\n",
      "chr18\t57255107\t57255265\n",
      "chr18\t57255107\t57255265\n",
      "chr9\t3346349\t3346543\n",
      "chr9\t3346349\t3346543\n",
      "chr5\t22343864\t22344237\n",
      "chr5\t22343864\t22344237\n",
      "chr12\t85232808\t85233071\n",
      "cut: write error: Broken pipe\n"
     ]
    }
   ],
   "source": [
    "cat peak-motifs_oligos_6nt_mkv4_m1_sites.tab | grep -v \";\" | grep -v '#' | cut -f 1 | tr \"_\" \"\\t\" | cut -f 2-4 | head"
   ]
  },
  {
   "cell_type": "code",
   "execution_count": 5,
   "metadata": {},
   "outputs": [],
   "source": [
    "cat peak-motifs_oligos_6nt_mkv4_m1_sites.tab | grep -v \";\" | grep -v '#' | cut -f 1 | tr \"_\" \"\\t\" | cut -f 2-4 > six1-allpeaks-with-motif-RSAT.bed"
   ]
  },
  {
   "cell_type": "code",
   "execution_count": 6,
   "metadata": {},
   "outputs": [
    {
     "name": "stdout",
     "output_type": "stream",
     "text": [
      "1253\n"
     ]
    }
   ],
   "source": [
    "cat six1-allpeaks-with-motif-RSAT.bed | wc -l"
   ]
  },
  {
   "cell_type": "markdown",
   "metadata": {},
   "source": [
    "### PWM and track enrichment\n",
    "Next to de novo motif enrichment, which we did above with RSAT, we can also ask whether the TP53 ChIP-seq peaks we found are enriched for matches to known PSSMs (PWMs) from PSSM databases like JASPAR, TRANFAC, cis-bp, HOCOMOCO, etc.\n",
    "\n",
    "In addition, we can ask whether our peaks overlap significantly (or \"correlate\") with other epigenomic data sets, called \"tracks\". For example, histone modification ChIP-seq tracks, or chromatin accessibility tracks. Some web-based tools that do this include i-cisTarget, Enrichr, and LOLA.\n",
    "\n",
    "i-cisTarget will test for enrichment of motifs, using a collection of databases of PSSMs, as well as tracks.\n",
    "\n",
    "Below, we have uploaded our ChIP-seq peak file to i-cisTarget https://gbiomed.kuleuven.be/apps/lcb/i-cisTarget/. This will place your job in a queue, which can take a while (~15 min or so) to complete."
   ]
  },
  {
   "cell_type": "markdown",
   "metadata": {},
   "source": [
    "#### For the whole set of peaks (10.000 peaks) "
   ]
  },
  {
   "cell_type": "code",
   "execution_count": 12,
   "metadata": {},
   "outputs": [
    {
     "name": "stdout",
     "output_type": "stream",
     "text": [
      "# GREAT version 4.0.4\tSpecies assembly: mm10\tAssociation rule: Basal+extension: 5000 bp upstream, 1000 bp downstream, 50000 bp max extension, curated regulatory domains included\n",
      "0610009B22Rik\tunnamed (-45593), unnamed (-45593), unnamed (-42916), unnamed (-42916)\n",
      "0610009O20Rik\tunnamed (-8586), unnamed (-8586)\n",
      "1110004E09Rik\tunnamed (+18585), unnamed (+18585), unnamed (+38265), unnamed (+38265)\n",
      "1110004F10Rik\tunnamed (+460), unnamed (+460)\n",
      "1110008P14Rik\tunnamed (+7845), unnamed (+7845)\n",
      "1110012L19Rik\tunnamed (-129), unnamed (-129)\n",
      "1110038F14Rik\tunnamed (+9824), unnamed (+9824)\n",
      "1110065P20Rik\tunnamed (-5702), unnamed (-5702)\n",
      "1300017J02Rik\tunnamed (-10757), unnamed (-10757)\n"
     ]
    }
   ],
   "source": [
    "head 20211219-public-4.0.4-NiPCRW-mm10-all-gene.txt"
   ]
  },
  {
   "cell_type": "code",
   "execution_count": 13,
   "metadata": {},
   "outputs": [
    {
     "name": "stdout",
     "output_type": "stream",
     "text": [
      "3942\n"
     ]
    }
   ],
   "source": [
    "cat 20211219-public-4.0.4-NiPCRW-mm10-all-gene.txt | cut -f 1 | grep -v '#' | wc -l"
   ]
  },
  {
   "cell_type": "code",
   "execution_count": 15,
   "metadata": {},
   "outputs": [
    {
     "ename": "",
     "evalue": "1",
     "output_type": "error",
     "traceback": []
    }
   ],
   "source": [
    "cat 20211219-public-4.0.4-NiPCRW-mm10-all-gene.txt | cut -f 1 | grep -v '#' | grep Slc16a10\n",
    "cat 20211219-public-4.0.4-NiPCRW-mm10-all-gene.txt | cut -f 1 | grep -v '#' | grep MYOG\n",
    "cat 20211219-public-4.0.4-NiPCRW-mm10-all-gene.txt | cut -f 1 | grep -v '#' | grep IFGBP5\n",
    "\n",
    "#none of the control genes is present"
   ]
  },
  {
   "cell_type": "code",
   "execution_count": 21,
   "metadata": {},
   "outputs": [],
   "source": [
    "cat 20211219-public-4.0.4-NiPCRW-mm10-all-gene.txt | cut -f 1 | grep -v '#' > Six1-10k-targets-GREAT.txt"
   ]
  },
  {
   "cell_type": "markdown",
   "metadata": {},
   "source": [
    "#### For the direct peaks (92 peaks) "
   ]
  },
  {
   "cell_type": "code",
   "execution_count": null,
   "metadata": {},
   "outputs": [],
   "source": [
    "head 20211219-public-4.0.4-aCWWPy-mm10-all-gene.txt"
   ]
  },
  {
   "cell_type": "code",
   "execution_count": 18,
   "metadata": {},
   "outputs": [
    {
     "name": "stdout",
     "output_type": "stream",
     "text": [
      "94\n"
     ]
    }
   ],
   "source": [
    "cat 20211219-public-4.0.4-aCWWPy-mm10-all-gene.txt | cut -f 1 | grep -v '#' | wc -l"
   ]
  },
  {
   "cell_type": "code",
   "execution_count": 22,
   "metadata": {},
   "outputs": [],
   "source": [
    "cat 20211219-public-4.0.4-aCWWPy-mm10-all-gene.txt | cut -f 1 | grep -v '#' > Six1-92-targets-GREAT.txt"
   ]
  },
  {
   "cell_type": "markdown",
   "metadata": {},
   "source": [
    "### Comparison of predicted targets with functional associations to Six1"
   ]
  },
  {
   "cell_type": "markdown",
   "metadata": {},
   "source": [
    "Now, we head to the String to visualize the gene network. Let's see if some more of these genes are \"related\" to Six1. Using https://string-db.org/ we can obtain a network of associated genes with Six1, based on genetic interactions, physical interactions, co-expression, and literature co-mentioning (in abstracts).\n",
    "\n",
    "\n",
    "See the master notebook for the results and interpretation. "
   ]
  }
 ],
 "metadata": {
  "kernelspec": {
   "display_name": "Python 3 (ipykernel)",
   "language": "python",
   "name": "python3"
  },
  "language_info": {
   "codemirror_mode": {
    "name": "ipython",
    "version": 3
   },
   "file_extension": ".py",
   "mimetype": "text/x-python",
   "name": "python",
   "nbconvert_exporter": "python",
   "pygments_lexer": "ipython3",
   "version": "3.8.12"
  }
 },
 "nbformat": 4,
 "nbformat_minor": 2
}
